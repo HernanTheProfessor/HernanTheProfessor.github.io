{
 "cells": [
  {
   "cell_type": "code",
   "execution_count": 1,
   "id": "778b6e5c",
   "metadata": {
    "_cell_guid": "b1076dfc-b9ad-4769-8c92-a6c4dae69d19",
    "_uuid": "8f2839f25d086af736a60e9eeb907d3b93b6e0e5",
    "execution": {
     "iopub.execute_input": "2022-04-26T23:52:45.598111Z",
     "iopub.status.busy": "2022-04-26T23:52:45.597052Z",
     "iopub.status.idle": "2022-04-26T23:52:45.611298Z",
     "shell.execute_reply": "2022-04-26T23:52:45.610387Z"
    },
    "papermill": {
     "duration": 0.073669,
     "end_time": "2022-04-26T23:52:45.613662",
     "exception": false,
     "start_time": "2022-04-26T23:52:45.539993",
     "status": "completed"
    },
    "tags": []
   },
   "outputs": [
    {
     "name": "stdout",
     "output_type": "stream",
     "text": [
      "/kaggle/input/spaceship-titanic/sample_submission.csv\n",
      "/kaggle/input/spaceship-titanic/train.csv\n",
      "/kaggle/input/spaceship-titanic/test.csv\n"
     ]
    }
   ],
   "source": [
    "# This Python 3 environment comes with many helpful analytics libraries installed\n",
    "# It is defined by the kaggle/python Docker image: https://github.com/kaggle/docker-python\n",
    "# For example, here's several helpful packages to load\n",
    "\n",
    "import numpy as np # linear algebra\n",
    "import pandas as pd # data processing, CSV file I/O (e.g. pd.read_csv)\n",
    "\n",
    "# Input data files are available in the read-only \"../input/\" directory\n",
    "# For example, running this (by clicking run or pressing Shift+Enter) will list all files under the input directory\n",
    "\n",
    "import os\n",
    "for dirname, _, filenames in os.walk('/kaggle/input'):\n",
    "    for filename in filenames:\n",
    "        print(os.path.join(dirname, filename))\n",
    "\n",
    "# You can write up to 20GB to the current directory (/kaggle/working/) that gets preserved as output when you create a version using \"Save & Run All\" \n",
    "# You can also write temporary files to /kaggle/temp/, but they won't be saved outside of the current session"
   ]
  },
  {
   "cell_type": "markdown",
   "id": "9ac85306",
   "metadata": {
    "papermill": {
     "duration": 0.056056,
     "end_time": "2022-04-26T23:52:45.725712",
     "exception": false,
     "start_time": "2022-04-26T23:52:45.669656",
     "status": "completed"
    },
    "tags": []
   },
   "source": [
    "# Importing Neccesary Libraries"
   ]
  },
  {
   "cell_type": "code",
   "execution_count": 2,
   "id": "a47e207c",
   "metadata": {
    "execution": {
     "iopub.execute_input": "2022-04-26T23:52:45.837016Z",
     "iopub.status.busy": "2022-04-26T23:52:45.836480Z",
     "iopub.status.idle": "2022-04-26T23:52:47.525793Z",
     "shell.execute_reply": "2022-04-26T23:52:47.524961Z"
    },
    "papermill": {
     "duration": 1.74724,
     "end_time": "2022-04-26T23:52:47.528253",
     "exception": false,
     "start_time": "2022-04-26T23:52:45.781013",
     "status": "completed"
    },
    "tags": []
   },
   "outputs": [],
   "source": [
    "import seaborn as sns\n",
    "import matplotlib.pyplot as plt\n",
    "from sklearn.model_selection import train_test_split  #separador variables train y valid\n",
    "from sklearn.ensemble import RandomForestClassifier #Modelo para predecir Clasificacion\n",
    "from sklearn.metrics import confusion_matrix #Matriz de Confusion\n",
    "from sklearn.metrics import accuracy_score  #Calculador de exactitud\n",
    "from sklearn.metrics import f1_score   #Calculador combinado de precision y sensibilidad(da una vision más general)\n",
    "from sklearn.metrics import precision_score #Calculador de precision\n",
    "from sklearn.metrics import recall_score #Calculador de la sensibilidad del modelo(ratio TruePositives(positivos detectados)/RealPositives(todos los positivos))\n",
    "from sklearn.metrics import roc_auc_score\n",
    "from sklearn.preprocessing import OneHotEncoder # Codificador ONE HOT para var categ\n",
    "from sklearn.preprocessing import OrdinalEncoder # Codificador Ordinal para var categ\n",
    "from sklearn.compose import ColumnTransformer  #Transformador de cols para el Pipelin\n",
    "from sklearn.pipeline import Pipeline  #Configuracion del Pipeline\n",
    "from sklearn.impute import SimpleImputer #Codificador simple para var categ\n",
    "from sklearn.model_selection import cross_val_score # Evaluador Cross-Validation\n",
    "from xgboost import XGBClassifier #Modelo XGBoost para predicciones de Clasificac"
   ]
  },
  {
   "cell_type": "markdown",
   "id": "b392e6c1",
   "metadata": {
    "papermill": {
     "duration": 0.053581,
     "end_time": "2022-04-26T23:52:47.636003",
     "exception": false,
     "start_time": "2022-04-26T23:52:47.582422",
     "status": "completed"
    },
    "tags": []
   },
   "source": [
    "# Helpful functions"
   ]
  },
  {
   "cell_type": "code",
   "execution_count": 3,
   "id": "d3d92b4c",
   "metadata": {
    "execution": {
     "iopub.execute_input": "2022-04-26T23:52:47.747454Z",
     "iopub.status.busy": "2022-04-26T23:52:47.746914Z",
     "iopub.status.idle": "2022-04-26T23:52:47.965807Z",
     "shell.execute_reply": "2022-04-26T23:52:47.964593Z"
    },
    "papermill": {
     "duration": 0.278189,
     "end_time": "2022-04-26T23:52:47.968479",
     "exception": false,
     "start_time": "2022-04-26T23:52:47.690290",
     "status": "completed"
    },
    "tags": []
   },
   "outputs": [
    {
     "name": "stdout",
     "output_type": "stream",
     "text": [
      "\u001b[1m\u001b[90mNotebook Color Scheme:\u001b[0m\n"
     ]
    },
    {
     "data": {
      "image/png": "[encoded data removed]",
      "text/plain": [
       "<Figure size 576x72 with 1 Axes>"
      ]
     },
     "metadata": {
      "needs_background": "light"
     },
     "output_type": "display_data"
    },
    {
     "name": "stdout",
     "output_type": "stream",
     "text": [
      "\u001b[1m\u001b[90mNotebook Color Scheme2:\u001b[0m\n"
     ]
    },
    {
     "data": {
      "image/png": "[encoded data removed]",
      "text/plain": [
       "<Figure size 504x72 with 1 Axes>"
      ]
     },
     "metadata": {
      "needs_background": "light"
     },
     "output_type": "display_data"
    }
   ],
   "source": [
    "# Custom colors\n",
    "class clr:\n",
    "    S = '\\033[1m' + '\\033[90m'\n",
    "    E = '\\033[0m'\n",
    "my_colors = [\"#bf6495\", \"#6a4ca7\", \"#652b59\", \"#371e62\", \"#3c1838\", \"#961436\", \"#8FBDD3\", \"#525E75\"]\n",
    "\n",
    "my_colors2=[\"#6a4ca7\", \"#652b59\", \"#371e62\", \"#3c1838\", \"#961436\", \"#8FBDD3\", \"#525E75\"]\n",
    "\n",
    "print(clr.S+\"Notebook Color Scheme:\"+clr.E)\n",
    "sns.palplot(sns.color_palette(my_colors))\n",
    "plt.show()\n",
    "\n",
    "print(clr.S+\"Notebook Color Scheme2:\"+clr.E)\n",
    "sns.palplot(sns.color_palette(my_colors2))\n",
    "plt.show()\n",
    "\n",
    "#======Show Values on Barplot========\n",
    "import numpy as np\n",
    "def show_values_on_bars(axs, h_v=\"v\", space=.01):\n",
    "    def _single(ax):\n",
    "        if h_v == \"v\":\n",
    "            for p in ax.patches:\n",
    "                _x = p.get_x() + p.get_width() / 2\n",
    "                _y = p.get_y() + p.get_height() + (p.get_height()*0.01)\n",
    "                value = '{:.1f}'.format(p.get_height())\n",
    "                ax.text(_x, _y, value, ha=\"center\") \n",
    "        elif h_v == \"h\":\n",
    "            for p in ax.patches:\n",
    "                _x = p.get_x() + p.get_width() + float(space)\n",
    "                _y = p.get_y() + p.get_height() - (p.get_height()*0.5)\n",
    "                value = '{:.1f}'.format(p.get_width())\n",
    "                ax.text(_x, _y, value, ha=\"left\")\n",
    "\n",
    "    if isinstance(axs, np.ndarray):\n",
    "        for idx, ax in np.ndenumerate(axs):\n",
    "            _single(ax)\n",
    "    else:\n",
    "        _single(axs)\n",
    "        \n"
   ]
  },
  {
   "cell_type": "markdown",
   "id": "fd87d15e",
   "metadata": {
    "papermill": {
     "duration": 0.059677,
     "end_time": "2022-04-26T23:52:48.086281",
     "exception": false,
     "start_time": "2022-04-26T23:52:48.026604",
     "status": "completed"
    },
    "tags": []
   },
   "source": [
    "# The Data"
   ]
  },
  {
   "cell_type": "code",
   "execution_count": 4,
   "id": "e96f167d",
   "metadata": {
    "execution": {
     "iopub.execute_input": "2022-04-26T23:52:48.201580Z",
     "iopub.status.busy": "2022-04-26T23:52:48.201315Z",
     "iopub.status.idle": "2022-04-26T23:52:48.315266Z",
     "shell.execute_reply": "2022-04-26T23:52:48.314413Z"
    },
    "papermill": {
     "duration": 0.174579,
     "end_time": "2022-04-26T23:52:48.318220",
     "exception": false,
     "start_time": "2022-04-26T23:52:48.143641",
     "status": "completed"
    },
    "tags": []
   },
   "outputs": [
    {
     "name": "stdout",
     "output_type": "stream",
     "text": [
      "\u001b[1m\u001b[90mThe size of the Traindata is:\u001b[0m (8693, 14)\n",
      "\n"
     ]
    },
    {
     "data": {
      "text/html": [
       "<div>\n",
       "<style scoped>\n",
       "    .dataframe tbody tr th:only-of-type {\n",
       "        vertical-align: middle;\n",
       "    }\n",
       "\n",
       "    .dataframe tbody tr th {\n",
       "        vertical-align: top;\n",
       "    }\n",
       "\n",
       "    .dataframe thead th {\n",
       "        text-align: right;\n",
       "    }\n",
       "</style>\n",
       "<table border=\"1\" class=\"dataframe\">\n",
       "  <thead>\n",
       "    <tr style=\"text-align: right;\">\n",
       "      <th></th>\n",
       "      <th>PassengerId</th>\n",
       "      <th>HomePlanet</th>\n",
       "      <th>CryoSleep</th>\n",
       "      <th>Cabin</th>\n",
       "      <th>Destination</th>\n",
       "      <th>Age</th>\n",
       "      <th>VIP</th>\n",
       "      <th>RoomService</th>\n",
       "      <th>FoodCourt</th>\n",
       "      <th>ShoppingMall</th>\n",
       "      <th>Spa</th>\n",
       "      <th>VRDeck</th>\n",
       "      <th>Name</th>\n",
       "      <th>Transported</th>\n",
       "    </tr>\n",
       "  </thead>\n",
       "  <tbody>\n",
       "    <tr>\n",
       "      <th>0</th>\n",
       "      <td>0001_01</td>\n",
       "      <td>Europa</td>\n",
       "      <td>False</td>\n",
       "      <td>B/0/P</td>\n",
       "      <td>TRAPPIST-1e</td>\n",
       "      <td>39.0</td>\n",
       "      <td>False</td>\n",
       "      <td>0.0</td>\n",
       "      <td>0.0</td>\n",
       "      <td>0.0</td>\n",
       "      <td>0.0</td>\n",
       "      <td>0.0</td>\n",
       "      <td>Maham Ofracculy</td>\n",
       "      <td>False</td>\n",
       "    </tr>\n",
       "    <tr>\n",
       "      <th>1</th>\n",
       "      <td>0002_01</td>\n",
       "      <td>Earth</td>\n",
       "      <td>False</td>\n",
       "      <td>F/0/S</td>\n",
       "      <td>TRAPPIST-1e</td>\n",
       "      <td>24.0</td>\n",
       "      <td>False</td>\n",
       "      <td>109.0</td>\n",
       "      <td>9.0</td>\n",
       "      <td>25.0</td>\n",
       "      <td>549.0</td>\n",
       "      <td>44.0</td>\n",
       "      <td>Juanna Vines</td>\n",
       "      <td>True</td>\n",
       "    </tr>\n",
       "    <tr>\n",
       "      <th>2</th>\n",
       "      <td>0003_01</td>\n",
       "      <td>Europa</td>\n",
       "      <td>False</td>\n",
       "      <td>A/0/S</td>\n",
       "      <td>TRAPPIST-1e</td>\n",
       "      <td>58.0</td>\n",
       "      <td>True</td>\n",
       "      <td>43.0</td>\n",
       "      <td>3576.0</td>\n",
       "      <td>0.0</td>\n",
       "      <td>6715.0</td>\n",
       "      <td>49.0</td>\n",
       "      <td>Altark Susent</td>\n",
       "      <td>False</td>\n",
       "    </tr>\n",
       "    <tr>\n",
       "      <th>3</th>\n",
       "      <td>0003_02</td>\n",
       "      <td>Europa</td>\n",
       "      <td>False</td>\n",
       "      <td>A/0/S</td>\n",
       "      <td>TRAPPIST-1e</td>\n",
       "      <td>33.0</td>\n",
       "      <td>False</td>\n",
       "      <td>0.0</td>\n",
       "      <td>1283.0</td>\n",
       "      <td>371.0</td>\n",
       "      <td>3329.0</td>\n",
       "      <td>193.0</td>\n",
       "      <td>Solam Susent</td>\n",
       "      <td>False</td>\n",
       "    </tr>\n",
       "    <tr>\n",
       "      <th>4</th>\n",
       "      <td>0004_01</td>\n",
       "      <td>Earth</td>\n",
       "      <td>False</td>\n",
       "      <td>F/1/S</td>\n",
       "      <td>TRAPPIST-1e</td>\n",
       "      <td>16.0</td>\n",
       "      <td>False</td>\n",
       "      <td>303.0</td>\n",
       "      <td>70.0</td>\n",
       "      <td>151.0</td>\n",
       "      <td>565.0</td>\n",
       "      <td>2.0</td>\n",
       "      <td>Willy Santantines</td>\n",
       "      <td>True</td>\n",
       "    </tr>\n",
       "  </tbody>\n",
       "</table>\n",
       "</div>"
      ],
      "text/plain": [
       "  PassengerId HomePlanet CryoSleep  Cabin  Destination   Age    VIP  \\\n",
       "0     0001_01     Europa     False  B/0/P  TRAPPIST-1e  39.0  False   \n",
       "1     0002_01      Earth     False  F/0/S  TRAPPIST-1e  24.0  False   \n",
       "2     0003_01     Europa     False  A/0/S  TRAPPIST-1e  58.0   True   \n",
       "3     0003_02     Europa     False  A/0/S  TRAPPIST-1e  33.0  False   \n",
       "4     0004_01      Earth     False  F/1/S  TRAPPIST-1e  16.0  False   \n",
       "\n",
       "   RoomService  FoodCourt  ShoppingMall     Spa  VRDeck               Name  \\\n",
       "0          0.0        0.0           0.0     0.0     0.0    Maham Ofracculy   \n",
       "1        109.0        9.0          25.0   549.0    44.0       Juanna Vines   \n",
       "2         43.0     3576.0           0.0  6715.0    49.0      Altark Susent   \n",
       "3          0.0     1283.0         371.0  3329.0   193.0       Solam Susent   \n",
       "4        303.0       70.0         151.0   565.0     2.0  Willy Santantines   \n",
       "\n",
       "   Transported  \n",
       "0        False  \n",
       "1         True  \n",
       "2        False  \n",
       "3        False  \n",
       "4         True  "
      ]
     },
     "execution_count": 4,
     "metadata": {},
     "output_type": "execute_result"
    }
   ],
   "source": [
    "##Reading the data\n",
    "X=pd.read_csv(\"../input/spaceship-titanic/train.csv\")\n",
    "Xtest=pd.read_csv(\"../input/spaceship-titanic/test.csv\", index_col='PassengerId')\n",
    "\n",
    "##Size of the Traindata\n",
    "print(clr.S+\"The size of the Traindata is:\"+clr.E, X.shape)\n",
    "print()\n",
    "##showing a glimpse of Traindata\n",
    "X.head()"
   ]
  },
  {
   "cell_type": "code",
   "execution_count": 5,
   "id": "c7173fbd",
   "metadata": {
    "execution": {
     "iopub.execute_input": "2022-04-26T23:52:48.436549Z",
     "iopub.status.busy": "2022-04-26T23:52:48.435969Z",
     "iopub.status.idle": "2022-04-26T23:52:48.461729Z",
     "shell.execute_reply": "2022-04-26T23:52:48.460880Z"
    },
    "papermill": {
     "duration": 0.087164,
     "end_time": "2022-04-26T23:52:48.463911",
     "exception": false,
     "start_time": "2022-04-26T23:52:48.376747",
     "status": "completed"
    },
    "tags": []
   },
   "outputs": [
    {
     "name": "stdout",
     "output_type": "stream",
     "text": [
      "<class 'pandas.core.frame.DataFrame'>\n",
      "RangeIndex: 8693 entries, 0 to 8692\n",
      "Data columns (total 14 columns):\n",
      " #   Column        Non-Null Count  Dtype  \n",
      "---  ------        --------------  -----  \n",
      " 0   PassengerId   8693 non-null   object \n",
      " 1   HomePlanet    8492 non-null   object \n",
      " 2   CryoSleep     8476 non-null   object \n",
      " 3   Cabin         8494 non-null   object \n",
      " 4   Destination   8511 non-null   object \n",
      " 5   Age           8514 non-null   float64\n",
      " 6   VIP           8490 non-null   object \n",
      " 7   RoomService   8512 non-null   float64\n",
      " 8   FoodCourt     8510 non-null   float64\n",
      " 9   ShoppingMall  8485 non-null   float64\n",
      " 10  Spa           8510 non-null   float64\n",
      " 11  VRDeck        8505 non-null   float64\n",
      " 12  Name          8493 non-null   object \n",
      " 13  Transported   8693 non-null   bool   \n",
      "dtypes: bool(1), float64(6), object(7)\n",
      "memory usage: 891.5+ KB\n"
     ]
    }
   ],
   "source": [
    "#Traindata General Info\n",
    "X.info()"
   ]
  },
  {
   "cell_type": "code",
   "execution_count": 6,
   "id": "03adc007",
   "metadata": {
    "execution": {
     "iopub.execute_input": "2022-04-26T23:52:48.582982Z",
     "iopub.status.busy": "2022-04-26T23:52:48.582663Z",
     "iopub.status.idle": "2022-04-26T23:52:48.616900Z",
     "shell.execute_reply": "2022-04-26T23:52:48.616236Z"
    },
    "papermill": {
     "duration": 0.096317,
     "end_time": "2022-04-26T23:52:48.618873",
     "exception": false,
     "start_time": "2022-04-26T23:52:48.522556",
     "status": "completed"
    },
    "tags": []
   },
   "outputs": [
    {
     "data": {
      "text/html": [
       "<div>\n",
       "<style scoped>\n",
       "    .dataframe tbody tr th:only-of-type {\n",
       "        vertical-align: middle;\n",
       "    }\n",
       "\n",
       "    .dataframe tbody tr th {\n",
       "        vertical-align: top;\n",
       "    }\n",
       "\n",
       "    .dataframe thead th {\n",
       "        text-align: right;\n",
       "    }\n",
       "</style>\n",
       "<table border=\"1\" class=\"dataframe\">\n",
       "  <thead>\n",
       "    <tr style=\"text-align: right;\">\n",
       "      <th></th>\n",
       "      <th>Age</th>\n",
       "      <th>RoomService</th>\n",
       "      <th>FoodCourt</th>\n",
       "      <th>ShoppingMall</th>\n",
       "      <th>Spa</th>\n",
       "      <th>VRDeck</th>\n",
       "    </tr>\n",
       "  </thead>\n",
       "  <tbody>\n",
       "    <tr>\n",
       "      <th>count</th>\n",
       "      <td>8514.000000</td>\n",
       "      <td>8512.000000</td>\n",
       "      <td>8510.000000</td>\n",
       "      <td>8485.000000</td>\n",
       "      <td>8510.000000</td>\n",
       "      <td>8505.000000</td>\n",
       "    </tr>\n",
       "    <tr>\n",
       "      <th>mean</th>\n",
       "      <td>28.827930</td>\n",
       "      <td>224.687617</td>\n",
       "      <td>458.077203</td>\n",
       "      <td>173.729169</td>\n",
       "      <td>311.138778</td>\n",
       "      <td>304.854791</td>\n",
       "    </tr>\n",
       "    <tr>\n",
       "      <th>std</th>\n",
       "      <td>14.489021</td>\n",
       "      <td>666.717663</td>\n",
       "      <td>1611.489240</td>\n",
       "      <td>604.696458</td>\n",
       "      <td>1136.705535</td>\n",
       "      <td>1145.717189</td>\n",
       "    </tr>\n",
       "    <tr>\n",
       "      <th>min</th>\n",
       "      <td>0.000000</td>\n",
       "      <td>0.000000</td>\n",
       "      <td>0.000000</td>\n",
       "      <td>0.000000</td>\n",
       "      <td>0.000000</td>\n",
       "      <td>0.000000</td>\n",
       "    </tr>\n",
       "    <tr>\n",
       "      <th>25%</th>\n",
       "      <td>19.000000</td>\n",
       "      <td>0.000000</td>\n",
       "      <td>0.000000</td>\n",
       "      <td>0.000000</td>\n",
       "      <td>0.000000</td>\n",
       "      <td>0.000000</td>\n",
       "    </tr>\n",
       "    <tr>\n",
       "      <th>50%</th>\n",
       "      <td>27.000000</td>\n",
       "      <td>0.000000</td>\n",
       "      <td>0.000000</td>\n",
       "      <td>0.000000</td>\n",
       "      <td>0.000000</td>\n",
       "      <td>0.000000</td>\n",
       "    </tr>\n",
       "    <tr>\n",
       "      <th>75%</th>\n",
       "      <td>38.000000</td>\n",
       "      <td>47.000000</td>\n",
       "      <td>76.000000</td>\n",
       "      <td>27.000000</td>\n",
       "      <td>59.000000</td>\n",
       "      <td>46.000000</td>\n",
       "    </tr>\n",
       "    <tr>\n",
       "      <th>max</th>\n",
       "      <td>79.000000</td>\n",
       "      <td>14327.000000</td>\n",
       "      <td>29813.000000</td>\n",
       "      <td>23492.000000</td>\n",
       "      <td>22408.000000</td>\n",
       "      <td>24133.000000</td>\n",
       "    </tr>\n",
       "  </tbody>\n",
       "</table>\n",
       "</div>"
      ],
      "text/plain": [
       "               Age   RoomService     FoodCourt  ShoppingMall           Spa  \\\n",
       "count  8514.000000   8512.000000   8510.000000   8485.000000   8510.000000   \n",
       "mean     28.827930    224.687617    458.077203    173.729169    311.138778   \n",
       "std      14.489021    666.717663   1611.489240    604.696458   1136.705535   \n",
       "min       0.000000      0.000000      0.000000      0.000000      0.000000   \n",
       "25%      19.000000      0.000000      0.000000      0.000000      0.000000   \n",
       "50%      27.000000      0.000000      0.000000      0.000000      0.000000   \n",
       "75%      38.000000     47.000000     76.000000     27.000000     59.000000   \n",
       "max      79.000000  14327.000000  29813.000000  23492.000000  22408.000000   \n",
       "\n",
       "             VRDeck  \n",
       "count   8505.000000  \n",
       "mean     304.854791  \n",
       "std     1145.717189  \n",
       "min        0.000000  \n",
       "25%        0.000000  \n",
       "50%        0.000000  \n",
       "75%       46.000000  \n",
       "max    24133.000000  "
      ]
     },
     "execution_count": 6,
     "metadata": {},
     "output_type": "execute_result"
    }
   ],
   "source": [
    "#Some statistics of Training Data\n",
    "X.describe()"
   ]
  },
  {
   "cell_type": "code",
   "execution_count": 7,
   "id": "97146bca",
   "metadata": {
    "execution": {
     "iopub.execute_input": "2022-04-26T23:52:48.740598Z",
     "iopub.status.busy": "2022-04-26T23:52:48.739809Z",
     "iopub.status.idle": "2022-04-26T23:52:48.746217Z",
     "shell.execute_reply": "2022-04-26T23:52:48.745318Z"
    },
    "papermill": {
     "duration": 0.068566,
     "end_time": "2022-04-26T23:52:48.748379",
     "exception": false,
     "start_time": "2022-04-26T23:52:48.679813",
     "status": "completed"
    },
    "tags": []
   },
   "outputs": [
    {
     "name": "stdout",
     "output_type": "stream",
     "text": [
      "\u001b[1m\u001b[90mthe rows count of the Training Data before treat duplicates is:\u001b[0m 8693 rows\n"
     ]
    }
   ],
   "source": [
    "print(clr.S+'the rows count of the Training Data before treat duplicates is:'+clr.E, X.shape[0], 'rows')"
   ]
  },
  {
   "cell_type": "code",
   "execution_count": 8,
   "id": "d7506874",
   "metadata": {
    "execution": {
     "iopub.execute_input": "2022-04-26T23:52:48.869381Z",
     "iopub.status.busy": "2022-04-26T23:52:48.868961Z",
     "iopub.status.idle": "2022-04-26T23:52:48.895855Z",
     "shell.execute_reply": "2022-04-26T23:52:48.894673Z"
    },
    "papermill": {
     "duration": 0.08978,
     "end_time": "2022-04-26T23:52:48.897882",
     "exception": false,
     "start_time": "2022-04-26T23:52:48.808102",
     "status": "completed"
    },
    "tags": []
   },
   "outputs": [
    {
     "name": "stdout",
     "output_type": "stream",
     "text": [
      "\u001b[1m\u001b[90mthe rows count after eliminate duplicates shows:\u001b[0m 8693 rows\n"
     ]
    }
   ],
   "source": [
    "X.drop_duplicates(subset=None, keep='first', inplace=True, ignore_index=False)\n",
    "print(clr.S+'the rows count after eliminate duplicates shows:'+clr.E, X.shape[0], 'rows')"
   ]
  },
  {
   "cell_type": "markdown",
   "id": "31db5f6a",
   "metadata": {
    "papermill": {
     "duration": 0.059825,
     "end_time": "2022-04-26T23:52:49.017287",
     "exception": false,
     "start_time": "2022-04-26T23:52:48.957462",
     "status": "completed"
    },
    "tags": []
   },
   "source": [
    "**That last result show us that there was no duplicates in the Training Data**"
   ]
  },
  {
   "cell_type": "markdown",
   "id": "c8193659",
   "metadata": {
    "papermill": {
     "duration": 0.059863,
     "end_time": "2022-04-26T23:52:49.137016",
     "exception": false,
     "start_time": "2022-04-26T23:52:49.077153",
     "status": "completed"
    },
    "tags": []
   },
   "source": [
    "### **How the target behave on Traindata**"
   ]
  },
  {
   "cell_type": "code",
   "execution_count": 9,
   "id": "7c61127f",
   "metadata": {
    "execution": {
     "iopub.execute_input": "2022-04-26T23:52:49.258092Z",
     "iopub.status.busy": "2022-04-26T23:52:49.257769Z",
     "iopub.status.idle": "2022-04-26T23:52:49.264774Z",
     "shell.execute_reply": "2022-04-26T23:52:49.264218Z"
    },
    "papermill": {
     "duration": 0.069512,
     "end_time": "2022-04-26T23:52:49.266676",
     "exception": false,
     "start_time": "2022-04-26T23:52:49.197164",
     "status": "completed"
    },
    "tags": []
   },
   "outputs": [
    {
     "data": {
      "text/plain": [
       "True     4378\n",
       "False    4315\n",
       "Name: Transported, dtype: int64"
      ]
     },
     "execution_count": 9,
     "metadata": {},
     "output_type": "execute_result"
    }
   ],
   "source": [
    "#Observing how many transported passengers were\n",
    "X['Transported'].value_counts()\n"
   ]
  },
  {
   "cell_type": "code",
   "execution_count": 10,
   "id": "370c3055",
   "metadata": {
    "execution": {
     "iopub.execute_input": "2022-04-26T23:52:49.388194Z",
     "iopub.status.busy": "2022-04-26T23:52:49.387753Z",
     "iopub.status.idle": "2022-04-26T23:52:49.396737Z",
     "shell.execute_reply": "2022-04-26T23:52:49.395912Z"
    },
    "papermill": {
     "duration": 0.071727,
     "end_time": "2022-04-26T23:52:49.398765",
     "exception": false,
     "start_time": "2022-04-26T23:52:49.327038",
     "status": "completed"
    },
    "tags": []
   },
   "outputs": [
    {
     "data": {
      "text/plain": [
       "True     50.36\n",
       "False    49.64\n",
       "Name: Transported, dtype: float64"
      ]
     },
     "execution_count": 10,
     "metadata": {},
     "output_type": "execute_result"
    }
   ],
   "source": [
    "#Percentage of transported passengers(Transported==True)\n",
    "((X['Transported'].value_counts()/len(X))*100).round(2)"
   ]
  },
  {
   "cell_type": "markdown",
   "id": "64b76e9d",
   "metadata": {
    "papermill": {
     "duration": 0.059896,
     "end_time": "2022-04-26T23:52:49.518709",
     "exception": false,
     "start_time": "2022-04-26T23:52:49.458813",
     "status": "completed"
    },
    "tags": []
   },
   "source": [
    " ### **MISSING VALUES on TRAINING DATA**"
   ]
  },
  {
   "cell_type": "code",
   "execution_count": 11,
   "id": "fdad05cc",
   "metadata": {
    "execution": {
     "iopub.execute_input": "2022-04-26T23:52:49.640627Z",
     "iopub.status.busy": "2022-04-26T23:52:49.640317Z",
     "iopub.status.idle": "2022-04-26T23:52:49.665122Z",
     "shell.execute_reply": "2022-04-26T23:52:49.664269Z"
    },
    "papermill": {
     "duration": 0.088545,
     "end_time": "2022-04-26T23:52:49.667322",
     "exception": false,
     "start_time": "2022-04-26T23:52:49.578777",
     "status": "completed"
    },
    "tags": []
   },
   "outputs": [
    {
     "data": {
      "text/html": [
       "<div>\n",
       "<style scoped>\n",
       "    .dataframe tbody tr th:only-of-type {\n",
       "        vertical-align: middle;\n",
       "    }\n",
       "\n",
       "    .dataframe tbody tr th {\n",
       "        vertical-align: top;\n",
       "    }\n",
       "\n",
       "    .dataframe thead th {\n",
       "        text-align: right;\n",
       "    }\n",
       "</style>\n",
       "<table border=\"1\" class=\"dataframe\">\n",
       "  <thead>\n",
       "    <tr style=\"text-align: right;\">\n",
       "      <th></th>\n",
       "      <th>Missing Values</th>\n",
       "      <th>% of Total Values</th>\n",
       "    </tr>\n",
       "  </thead>\n",
       "  <tbody>\n",
       "    <tr>\n",
       "      <th>CryoSleep</th>\n",
       "      <td>217</td>\n",
       "      <td>2.496261</td>\n",
       "    </tr>\n",
       "    <tr>\n",
       "      <th>ShoppingMall</th>\n",
       "      <td>208</td>\n",
       "      <td>2.392730</td>\n",
       "    </tr>\n",
       "    <tr>\n",
       "      <th>VIP</th>\n",
       "      <td>203</td>\n",
       "      <td>2.335212</td>\n",
       "    </tr>\n",
       "    <tr>\n",
       "      <th>HomePlanet</th>\n",
       "      <td>201</td>\n",
       "      <td>2.312205</td>\n",
       "    </tr>\n",
       "    <tr>\n",
       "      <th>Name</th>\n",
       "      <td>200</td>\n",
       "      <td>2.300702</td>\n",
       "    </tr>\n",
       "    <tr>\n",
       "      <th>Cabin</th>\n",
       "      <td>199</td>\n",
       "      <td>2.289198</td>\n",
       "    </tr>\n",
       "    <tr>\n",
       "      <th>VRDeck</th>\n",
       "      <td>188</td>\n",
       "      <td>2.162660</td>\n",
       "    </tr>\n",
       "    <tr>\n",
       "      <th>FoodCourt</th>\n",
       "      <td>183</td>\n",
       "      <td>2.105142</td>\n",
       "    </tr>\n",
       "    <tr>\n",
       "      <th>Spa</th>\n",
       "      <td>183</td>\n",
       "      <td>2.105142</td>\n",
       "    </tr>\n",
       "    <tr>\n",
       "      <th>Destination</th>\n",
       "      <td>182</td>\n",
       "      <td>2.093639</td>\n",
       "    </tr>\n",
       "    <tr>\n",
       "      <th>RoomService</th>\n",
       "      <td>181</td>\n",
       "      <td>2.082135</td>\n",
       "    </tr>\n",
       "    <tr>\n",
       "      <th>Age</th>\n",
       "      <td>179</td>\n",
       "      <td>2.059128</td>\n",
       "    </tr>\n",
       "    <tr>\n",
       "      <th>PassengerId</th>\n",
       "      <td>0</td>\n",
       "      <td>NaN</td>\n",
       "    </tr>\n",
       "    <tr>\n",
       "      <th>Transported</th>\n",
       "      <td>0</td>\n",
       "      <td>NaN</td>\n",
       "    </tr>\n",
       "  </tbody>\n",
       "</table>\n",
       "</div>"
      ],
      "text/plain": [
       "              Missing Values  % of Total Values\n",
       "CryoSleep                217           2.496261\n",
       "ShoppingMall             208           2.392730\n",
       "VIP                      203           2.335212\n",
       "HomePlanet               201           2.312205\n",
       "Name                     200           2.300702\n",
       "Cabin                    199           2.289198\n",
       "VRDeck                   188           2.162660\n",
       "FoodCourt                183           2.105142\n",
       "Spa                      183           2.105142\n",
       "Destination              182           2.093639\n",
       "RoomService              181           2.082135\n",
       "Age                      179           2.059128\n",
       "PassengerId                0                NaN\n",
       "Transported                0                NaN"
      ]
     },
     "execution_count": 11,
     "metadata": {},
     "output_type": "execute_result"
    }
   ],
   "source": [
    "miss=X.isnull().sum()\n",
    "miss_per=miss[miss>0]/(len(X.index))*100\n",
    "Table = pd.concat([miss, miss_per], axis=1)\n",
    "nullTable=Table.rename(columns = {0 : 'Missing Values', 1 : '% of Total Values'})\n",
    "nullTable.sort_values(by=['Missing Values'], ascending=False)\n"
   ]
  },
  {
   "cell_type": "code",
   "execution_count": 12,
   "id": "a61e2359",
   "metadata": {
    "execution": {
     "iopub.execute_input": "2022-04-26T23:52:49.791948Z",
     "iopub.status.busy": "2022-04-26T23:52:49.791418Z",
     "iopub.status.idle": "2022-04-26T23:52:51.176842Z",
     "shell.execute_reply": "2022-04-26T23:52:51.175879Z"
    },
    "papermill": {
     "duration": 1.451924,
     "end_time": "2022-04-26T23:52:51.180694",
     "exception": false,
     "start_time": "2022-04-26T23:52:49.728770",
     "status": "completed"
    },
    "tags": []
   },
   "outputs": [
    {
     "data": {
      "text/plain": [
       "<Figure size 1656x4536 with 0 Axes>"
      ]
     },
     "metadata": {},
     "output_type": "display_data"
    },
    {
     "data": {
      "image/png": "[encoded data removed]",
      "text/plain": [
       "<Figure size 3348x2232 with 1 Axes>"
      ]
     },
     "metadata": {
      "needs_background": "light"
     },
     "output_type": "display_data"
    }
   ],
   "source": [
    "# Show a dataframe of missing values\n",
    "plt.figure(figsize=(23,63))\n",
    "\n",
    "sns.displot(\n",
    "    data=X.isnull().melt(value_name=\"missing\"),\n",
    "    y=\"variable\",\n",
    "    hue=\"missing\",\n",
    "    multiple=\"fill\",\n",
    "    # Change aspect of the chart\n",
    "    aspect=1.5,\n",
    "    height=31,\n",
    "    # Change colors\n",
    "    palette=[my_colors[6], my_colors[7]], \n",
    "    legend=False)\n",
    "\n",
    "plt.title(\"- MISSING VALUES IN TRAIN DATA -\", size=68, weight=\"bold\")\n",
    "plt.xlabel(\"Total Percentage\", size=68)\n",
    "plt.ylabel(\"DataFrame Variables\", size=68)\n",
    "plt.xticks(size=56)\n",
    "plt.yticks(size=36)\n",
    "plt.legend([\"NULL VALUES TRUE\", \"NULL VALUES FALSE\"], loc=5, fontsize=48);"
   ]
  },
  {
   "cell_type": "markdown",
   "id": "b6120d05",
   "metadata": {
    "papermill": {
     "duration": 0.065391,
     "end_time": "2022-04-26T23:52:51.311730",
     "exception": false,
     "start_time": "2022-04-26T23:52:51.246339",
     "status": "completed"
    },
    "tags": []
   },
   "source": [
    "### **OUTLIERS on TRAINING DATA**"
   ]
  },
  {
   "cell_type": "code",
   "execution_count": 13,
   "id": "1f40f6a8",
   "metadata": {
    "execution": {
     "iopub.execute_input": "2022-04-26T23:52:51.446289Z",
     "iopub.status.busy": "2022-04-26T23:52:51.445756Z",
     "iopub.status.idle": "2022-04-26T23:52:51.812846Z",
     "shell.execute_reply": "2022-04-26T23:52:51.812197Z"
    },
    "papermill": {
     "duration": 0.437023,
     "end_time": "2022-04-26T23:52:51.814636",
     "exception": false,
     "start_time": "2022-04-26T23:52:51.377613",
     "status": "completed"
    },
    "tags": []
   },
   "outputs": [
    {
     "data": {
      "text/plain": [
       "Text(0.5, 1.0, '- VISUAL OF OUTLIERS IN TRAIN DATA -')"
      ]
     },
     "execution_count": 13,
     "metadata": {},
     "output_type": "execute_result"
    },
    {
     "data": {
      "image/png": "[encoded data removed]",
      "text/plain": [
       "<Figure size 1296x576 with 1 Axes>"
      ]
     },
     "metadata": {
      "needs_background": "light"
     },
     "output_type": "display_data"
    }
   ],
   "source": [
    "from seaborn import boxplot\n",
    "\n",
    "#===setting up the boxplot to visualize Outliers in the entire data===\n",
    "f, ax = plt.subplots(figsize=(18, 8))\n",
    "boxplot(data=X, orient='h', palette='Wistia')\n",
    "plt.title(\"- VISUAL OF OUTLIERS IN TRAIN DATA -\", size=28, weight=\"bold\")"
   ]
  },
  {
   "cell_type": "code",
   "execution_count": 14,
   "id": "aca2b926",
   "metadata": {
    "execution": {
     "iopub.execute_input": "2022-04-26T23:52:51.953408Z",
     "iopub.status.busy": "2022-04-26T23:52:51.952895Z",
     "iopub.status.idle": "2022-04-26T23:52:52.029680Z",
     "shell.execute_reply": "2022-04-26T23:52:52.028632Z"
    },
    "jupyter": {
     "source_hidden": true
    },
    "papermill": {
     "duration": 0.149511,
     "end_time": "2022-04-26T23:52:52.032064",
     "exception": false,
     "start_time": "2022-04-26T23:52:51.882553",
     "status": "completed"
    },
    "tags": []
   },
   "outputs": [
    {
     "name": "stdout",
     "output_type": "stream",
     "text": [
      "\u001b[1m\u001b[90mTHIS IS THE COUNT OF OUTLIERS:\u001b[0m\n",
      "Age    77\n",
      "dtype: int64\n",
      "VIP    199\n",
      "dtype: int64\n",
      "RoomService    1861\n",
      "dtype: int64\n",
      "FoodCourt    1823\n",
      "dtype: int64\n",
      "ShoppingMall    1829\n",
      "dtype: int64\n",
      "Spa    1788\n",
      "dtype: int64\n",
      "VRDeck    1809\n",
      "dtype: int64\n"
     ]
    }
   ],
   "source": [
    "#=======Identifying Outliers in training dataset======\n",
    "\n",
    "#outliers column 'Age'\n",
    "\n",
    "q1a=X['Age'].quantile(0.25)\n",
    "q3a=X['Age'].quantile(0.75)\n",
    "iqr=q3a-q1a\n",
    "x=1.5*iqr\n",
    "limax=(q3a+x)\n",
    "limin=(q1a-x)\n",
    "outage= (X['Age'] < limin) | (X['Age'] > limax)\n",
    "atipicoa=X[outage]\n",
    "print(clr.S+\"THIS IS THE COUNT OF OUTLIERS:\"+clr.E)\n",
    "print(atipicoa[['Age']].count())\n",
    "\n",
    "#outliers column 'VIP'\n",
    "\n",
    "q1v=X['VIP'].quantile(0.25)\n",
    "q3v=X['VIP'].quantile(0.75)\n",
    "iqrv=q3v-q1v\n",
    "xv=1.5*iqrv\n",
    "limaxv=(q3v+xv)\n",
    "liminv=(q1v-xv)\n",
    "outvip= (X['VIP'] < liminv) | (X['VIP'] > limaxv)\n",
    "atipicov=X[outvip]\n",
    "print(atipicov[['VIP']].count())\n",
    "\n",
    "#outliers column 'RoomService '\n",
    "\n",
    "q1r=X['RoomService'].quantile(0.25)\n",
    "q3r=X['RoomService'].quantile(0.75)\n",
    "iqrr=q3r-q1r\n",
    "xr=1.5*iqrr\n",
    "limaxr=(q3r+xr)\n",
    "liminr=(q1r-xr)\n",
    "outroom= (X['RoomService'] < liminr) | (X['RoomService'] > limaxr)\n",
    "atipicor=X[outroom]\n",
    "print(atipicor[['RoomService']].count())\n",
    "\n",
    "#outliers column 'FoodCourt'\n",
    "\n",
    "q1f=X['FoodCourt'].quantile(0.25)\n",
    "q3f=X['FoodCourt'].quantile(0.75)\n",
    "iqrf=q3f-q1f\n",
    "xf=1.5*iqrf\n",
    "limaxf=(q3f+xf)\n",
    "liminf=(q1f-xf)\n",
    "outfood= (X['FoodCourt'] < liminf) | (X['FoodCourt'] > limaxf)\n",
    "atipicof=X[outfood]\n",
    "print(atipicof[['FoodCourt']].count())\n",
    "\n",
    "#outliers column 'ShoppingMall'\n",
    "\n",
    "q1s=X['ShoppingMall'].quantile(0.25)\n",
    "q3s=X['ShoppingMall'].quantile(0.75)\n",
    "iqrs=q3s-q1s\n",
    "xs=1.5*iqrs\n",
    "limaxs=(q3s+xs)\n",
    "limins=(q1s-xs)\n",
    "outshop= (X['ShoppingMall'] < limins) | (X['ShoppingMall'] > limaxs)\n",
    "atipicos=X[outshop]\n",
    "print(atipicos[['ShoppingMall']].count())\n",
    "\n",
    "#outliers column 'Spa'\n",
    "\n",
    "q1sp=X['Spa'].quantile(0.25)\n",
    "q3sp=X['Spa'].quantile(0.75)\n",
    "iqrsp=q3sp-q1sp\n",
    "xsp=1.5*iqrsp\n",
    "limaxsp=(q3sp+xsp)\n",
    "liminsp=(q1sp-xsp)\n",
    "outspa= (X['Spa'] < liminsp) | (X['Spa'] > limaxsp)\n",
    "atipicosp=X[outspa]\n",
    "print(atipicosp[['Spa']].count())\n",
    "\n",
    "#outliers column 'VRDeck'\n",
    "\n",
    "q1vr=X['VRDeck'].quantile(0.25)\n",
    "q3vr=X['VRDeck'].quantile(0.75)\n",
    "iqrvr=q3vr-q1vr\n",
    "xvr=1.5*iqrvr\n",
    "limaxvr=(q3vr+xvr)\n",
    "liminvr=(q1vr-xvr)\n",
    "outvrd= (X['VRDeck'] < liminvr) | (X['VRDeck'] > limaxvr)\n",
    "atipicovr=X[outvrd]\n",
    "print(atipicovr[['VRDeck']].count())"
   ]
  },
  {
   "cell_type": "code",
   "execution_count": 15,
   "id": "5893a83a",
   "metadata": {
    "execution": {
     "iopub.execute_input": "2022-04-26T23:52:52.171270Z",
     "iopub.status.busy": "2022-04-26T23:52:52.170514Z",
     "iopub.status.idle": "2022-04-26T23:52:52.199862Z",
     "shell.execute_reply": "2022-04-26T23:52:52.199243Z"
    },
    "jupyter": {
     "source_hidden": true
    },
    "papermill": {
     "duration": 0.101357,
     "end_time": "2022-04-26T23:52:52.202519",
     "exception": false,
     "start_time": "2022-04-26T23:52:52.101162",
     "status": "completed"
    },
    "tags": []
   },
   "outputs": [
    {
     "name": "stdout",
     "output_type": "stream",
     "text": [
      "\u001b[1m\u001b[90mPercent of Outliers\u001b[0m Age    0.88577\n",
      "dtype: float64\n",
      "\u001b[1m\u001b[90mPercent of Outliers\u001b[0m VIP    2.289198\n",
      "dtype: float64\n",
      "\u001b[1m\u001b[90mPercent of Outliers\u001b[0m RoomService    21.408029\n",
      "dtype: float64\n",
      "\u001b[1m\u001b[90mPercent of Outliers\u001b[0m FoodCourt    20.970896\n",
      "dtype: float64\n",
      "\u001b[1m\u001b[90mPercent of Outliers\u001b[0m ShoppingMall    21.039917\n",
      "dtype: float64\n",
      "\u001b[1m\u001b[90mPercent of Outliers\u001b[0m Spa    20.568273\n",
      "dtype: float64\n",
      "\u001b[1m\u001b[90mPercent of Outliers\u001b[0m VRDeck    20.809847\n",
      "dtype: float64\n"
     ]
    }
   ],
   "source": [
    "#Showing Outliers as % of total\n",
    "Ageout=(atipicoa[['Age']].count()/len(X['Age']))*100\n",
    "print(clr.S+'Percent of Outliers'+clr.E, Ageout)\n",
    "\n",
    "VIPout=(atipicov[['VIP']].count()/len(X['VIP']))*100\n",
    "print(clr.S+'Percent of Outliers'+clr.E, VIPout)\n",
    "\n",
    "Roomout=(atipicor[['RoomService']].count()/len(X['RoomService']))*100\n",
    "print(clr.S+'Percent of Outliers'+clr.E, Roomout)\n",
    "\n",
    "Foodout=(atipicof[['FoodCourt']].count()/len(X['FoodCourt']))*100\n",
    "print(clr.S+'Percent of Outliers'+clr.E, Foodout)\n",
    "\n",
    "Shopout=(atipicos[['ShoppingMall']].count()/len(X['ShoppingMall']))*100\n",
    "print(clr.S+'Percent of Outliers'+clr.E, Shopout)\n",
    "\n",
    "Spaout=(atipicosp[['Spa']].count()/len(X['Spa']))*100\n",
    "print(clr.S+'Percent of Outliers'+clr.E, Spaout)\n",
    "\n",
    "vrdout=(atipicovr[['VRDeck']].count()/len(X['VRDeck']))*100\n",
    "print(clr.S+'Percent of Outliers'+clr.E, vrdout)"
   ]
  },
  {
   "cell_type": "code",
   "execution_count": 16,
   "id": "397cc819",
   "metadata": {
    "execution": {
     "iopub.execute_input": "2022-04-26T23:52:52.341261Z",
     "iopub.status.busy": "2022-04-26T23:52:52.340957Z",
     "iopub.status.idle": "2022-04-26T23:52:52.583493Z",
     "shell.execute_reply": "2022-04-26T23:52:52.582900Z"
    },
    "jupyter": {
     "source_hidden": true
    },
    "papermill": {
     "duration": 0.313901,
     "end_time": "2022-04-26T23:52:52.585558",
     "exception": false,
     "start_time": "2022-04-26T23:52:52.271657",
     "status": "completed"
    },
    "tags": []
   },
   "outputs": [
    {
     "data": {
      "image/png": "[encoded data removed]",
      "text/plain": [
       "<Figure size 1656x936 with 1 Axes>"
      ]
     },
     "metadata": {
      "needs_background": "light"
     },
     "output_type": "display_data"
    }
   ],
   "source": [
    "# Show a dataframe of\n",
    "from matplotlib import patches\n",
    "plt.figure(figsize=(23,13))\n",
    "\n",
    "out={'Age':[0.88577], 'VIP':[2.289198], 'RoomService':[21.408029],\n",
    "                            'FoodCourt':[20.970896], 'ShoppingMall':[21.039917],\n",
    "                            'Spa':[20.568273], 'VRDeck':[20.809847]}\n",
    "outliers=pd.DataFrame(data=out)\n",
    "outs=outliers.sort_values(by= [0], axis=1, ascending=True)\n",
    "sns.barplot(data=outs, orient='h', palette='BuPu')\n",
    "plt.title(\"- OUTLIERS % IN TRAIN DATA -\", size=28, weight=\"bold\")\n",
    "plt.xlabel(\"Total Percentage\", size=28)\n",
    "plt.ylabel(\"DataFrame Variables\", size=28)\n",
    "plt.xticks(size=26)\n",
    "plt.yticks(size=16)\n",
    "\n",
    "sns.despine(left=True, bottom=True)\n",
    "plt.show();"
   ]
  },
  {
   "cell_type": "code",
   "execution_count": 17,
   "id": "89e3ea8a",
   "metadata": {
    "execution": {
     "iopub.execute_input": "2022-04-26T23:52:52.728972Z",
     "iopub.status.busy": "2022-04-26T23:52:52.728417Z",
     "iopub.status.idle": "2022-04-26T23:52:52.916023Z",
     "shell.execute_reply": "2022-04-26T23:52:52.914970Z"
    },
    "jupyter": {
     "source_hidden": true
    },
    "papermill": {
     "duration": 0.262044,
     "end_time": "2022-04-26T23:52:52.918316",
     "exception": false,
     "start_time": "2022-04-26T23:52:52.656272",
     "status": "completed"
    },
    "tags": []
   },
   "outputs": [
    {
     "name": "stdout",
     "output_type": "stream",
     "text": [
      "\u001b[1m\u001b[90mAges below 0 or above 66.5 are considered Outliers\u001b[0m\n",
      "\n",
      "\u001b[1m\u001b[90mVIPs  below 0 or above 0.0 are considered Outliers\u001b[0m\n",
      "\n",
      "\u001b[1m\u001b[90mRoomService charges below 0 or above 117.5 are considered Outliers\u001b[0m\n",
      "\n",
      "\u001b[1m\u001b[90mFoodCourt charges below 0 or above 190.0 are considered Outliers\u001b[0m\n",
      "\n",
      "\u001b[1m\u001b[90mShoppingMall charges below 0 or above 67.5 are considered Outliers\u001b[0m\n",
      "\n",
      "\u001b[1m\u001b[90mSpa charges below 0 or above 147.5 are considered Outliers\u001b[0m\n",
      "\n",
      "\u001b[1m\u001b[90mVRDeck charges below 0 or above 115.0 are considered Outliers\u001b[0m\n",
      "\n"
     ]
    }
   ],
   "source": [
    "#Identifying the boundaries of each column\n",
    "\n",
    "#showing outliers boundaries in column 'Age'\n",
    "q1a=X['Age'].quantile(0.25)\n",
    "q3a=X['Age'].quantile(0.75)\n",
    "iqr=q3a-q1a\n",
    "x=1.5*iqr\n",
    "limax=(q3a+x)\n",
    "limin=(q1a-x)\n",
    "if limin<=0:\n",
    "  limin=0\n",
    "print(clr.S+'Ages below', limin, 'or above', limax, 'are considered Outliers'+clr.E)\n",
    "print()\n",
    "\n",
    "#showing outliers boundaries in column 'VIP'\n",
    "q1v=X['VIP'].quantile(0.25)\n",
    "q3v=X['VIP'].quantile(0.75)\n",
    "iqrv=q3v-q1v\n",
    "xv=1.5*iqrv\n",
    "limaxv=(q3v+xv)\n",
    "liminv=(q1v-xv)\n",
    "if liminv<=0:\n",
    "  liminv=0\n",
    "print(clr.S+'VIPs  below', liminv, 'or above', limaxv, 'are considered Outliers'+clr.E)\n",
    "print()\n",
    "\n",
    "#showing outliers boundaries in column 'RoomService'\n",
    "q1r=X['RoomService'].quantile(0.25)\n",
    "q3r=X['RoomService'].quantile(0.75)\n",
    "iqrr=q3r-q1r\n",
    "xr=1.5*iqrr\n",
    "limaxr=(q3r+xr)\n",
    "liminr=(q1r-xr)\n",
    "if liminr<=0:\n",
    "  liminr=0\n",
    "print(clr.S+'RoomService charges below', liminr, 'or above', limaxr, 'are considered Outliers'+clr.E)\n",
    "print()\n",
    "\n",
    "#showing outliers boundaries in column 'FoodCourt'\n",
    "q1f=X['FoodCourt'].quantile(0.25)\n",
    "q3f=X['FoodCourt'].quantile(0.75)\n",
    "iqrf=q3f-q1f\n",
    "xf=1.5*iqrf\n",
    "limaxf=(q3f+xf)\n",
    "liminf=(q1f-xf)\n",
    "if liminf<=0:\n",
    "  liminf=0\n",
    "print(clr.S+'FoodCourt charges below', liminf, 'or above', limaxf, 'are considered Outliers'+clr.E)\n",
    "print()\n",
    "\n",
    "#showing outliers boundaries in column 'ShoppingMall'\n",
    "q1s=X['ShoppingMall'].quantile(0.25)\n",
    "q3s=X['ShoppingMall'].quantile(0.75)\n",
    "iqrs=q3s-q1s\n",
    "xs=1.5*iqrs\n",
    "limaxs=(q3s+xs)\n",
    "limins=(q1s-xs)\n",
    "if limins<=0:\n",
    "  limins=0\n",
    "print(clr.S+'ShoppingMall charges below', limins, 'or above', limaxs, 'are considered Outliers'+clr.E)\n",
    "print()\n",
    "\n",
    "#showing outliers boundaries in column 'Spa'\n",
    "q1sp=X['Spa'].quantile(0.25)\n",
    "q3sp=X['Spa'].quantile(0.75)\n",
    "iqrsp=q3sp-q1sp\n",
    "xsp=1.5*iqrsp\n",
    "limaxsp=(q3sp+xsp)\n",
    "liminsp=(q1sp-xsp)\n",
    "if liminsp<=0:\n",
    "  liminsp=0\n",
    "print(clr.S+'Spa charges below', liminsp, 'or above', limaxsp, 'are considered Outliers'+clr.E)\n",
    "print()\n",
    "\n",
    "#showing outliers boundaries in column 'VRDeck'\n",
    "q1vr=X['VRDeck'].quantile(0.25)\n",
    "q3vr=X['VRDeck'].quantile(0.75)\n",
    "iqrvr=q3vr-q1vr\n",
    "xvr=1.5*iqrvr\n",
    "limaxvr=(q3vr+xvr)\n",
    "liminvr=(q1vr-xvr)\n",
    "if liminvr<=0:\n",
    "  liminvr=0\n",
    "print(clr.S+'VRDeck charges below', liminvr, 'or above', limaxvr, 'are considered Outliers'+clr.E)\n",
    "print()"
   ]
  },
  {
   "cell_type": "markdown",
   "id": "b55d989c",
   "metadata": {
    "papermill": {
     "duration": 0.070778,
     "end_time": "2022-04-26T23:52:53.059312",
     "exception": false,
     "start_time": "2022-04-26T23:52:52.988534",
     "status": "completed"
    },
    "tags": []
   },
   "source": [
    "#### **Substitution of Outliers**"
   ]
  },
  {
   "cell_type": "code",
   "execution_count": 18,
   "id": "fecbb7f6",
   "metadata": {
    "execution": {
     "iopub.execute_input": "2022-04-26T23:52:53.204151Z",
     "iopub.status.busy": "2022-04-26T23:52:53.203847Z",
     "iopub.status.idle": "2022-04-26T23:52:53.220618Z",
     "shell.execute_reply": "2022-04-26T23:52:53.219940Z"
    },
    "papermill": {
     "duration": 0.092394,
     "end_time": "2022-04-26T23:52:53.222686",
     "exception": false,
     "start_time": "2022-04-26T23:52:53.130292",
     "status": "completed"
    },
    "tags": []
   },
   "outputs": [],
   "source": [
    "X.loc[X.Age>66.5,'Age']=X['Age'].median()\n",
    "X.loc[X.VIP>0,'VIP']=X['VIP'].mean()\n",
    "X.loc[X.RoomService>117.5,'RoomService']=X['RoomService'].mean()\n",
    "X.loc[X.FoodCourt>190.0,'FoodCourt']=X['FoodCourt'].mean()\n",
    "X.loc[X.ShoppingMall>67.5,'ShoppingMall']=X['ShoppingMall'].mean()\n",
    "X.loc[X.Spa>147.5,'Spa']=X['Spa'].mean()\n",
    "X.loc[X.VRDeck>115.0,'VRDeck']=X['VRDeck'].mean()"
   ]
  },
  {
   "cell_type": "code",
   "execution_count": 19,
   "id": "35945169",
   "metadata": {
    "execution": {
     "iopub.execute_input": "2022-04-26T23:52:53.365390Z",
     "iopub.status.busy": "2022-04-26T23:52:53.364877Z",
     "iopub.status.idle": "2022-04-26T23:52:53.764946Z",
     "shell.execute_reply": "2022-04-26T23:52:53.764047Z"
    },
    "papermill": {
     "duration": 0.474269,
     "end_time": "2022-04-26T23:52:53.767115",
     "exception": false,
     "start_time": "2022-04-26T23:52:53.292846",
     "status": "completed"
    },
    "tags": []
   },
   "outputs": [
    {
     "data": {
      "text/plain": [
       "Text(0.5, 1.0, '- TRAIN DATA with OUTLIERS SUBSTITUTION -')"
      ]
     },
     "execution_count": 19,
     "metadata": {},
     "output_type": "execute_result"
    },
    {
     "data": {
      "image/png": "[encoded data removed]",
      "text/plain": [
       "<Figure size 1296x576 with 1 Axes>"
      ]
     },
     "metadata": {
      "needs_background": "light"
     },
     "output_type": "display_data"
    }
   ],
   "source": [
    "###setting up the boxplot to visualize Outliers in the entire data###\n",
    "f, ax = plt.subplots(figsize=(18, 8))\n",
    "boxplot(data=X, orient='h', palette='Purples')\n",
    "plt.title(\"- TRAIN DATA with OUTLIERS SUBSTITUTION -\", size=24, weight=\"bold\")"
   ]
  },
  {
   "cell_type": "code",
   "execution_count": 20,
   "id": "f8d3fff2",
   "metadata": {
    "execution": {
     "iopub.execute_input": "2022-04-26T23:52:53.914023Z",
     "iopub.status.busy": "2022-04-26T23:52:53.913411Z",
     "iopub.status.idle": "2022-04-26T23:52:53.947608Z",
     "shell.execute_reply": "2022-04-26T23:52:53.946510Z"
    },
    "papermill": {
     "duration": 0.111012,
     "end_time": "2022-04-26T23:52:53.950224",
     "exception": false,
     "start_time": "2022-04-26T23:52:53.839212",
     "status": "completed"
    },
    "tags": []
   },
   "outputs": [
    {
     "data": {
      "text/html": [
       "<div>\n",
       "<style scoped>\n",
       "    .dataframe tbody tr th:only-of-type {\n",
       "        vertical-align: middle;\n",
       "    }\n",
       "\n",
       "    .dataframe tbody tr th {\n",
       "        vertical-align: top;\n",
       "    }\n",
       "\n",
       "    .dataframe thead th {\n",
       "        text-align: right;\n",
       "    }\n",
       "</style>\n",
       "<table border=\"1\" class=\"dataframe\">\n",
       "  <thead>\n",
       "    <tr style=\"text-align: right;\">\n",
       "      <th></th>\n",
       "      <th>Age</th>\n",
       "      <th>RoomService</th>\n",
       "      <th>FoodCourt</th>\n",
       "      <th>ShoppingMall</th>\n",
       "      <th>Spa</th>\n",
       "      <th>VRDeck</th>\n",
       "    </tr>\n",
       "  </thead>\n",
       "  <tbody>\n",
       "    <tr>\n",
       "      <th>count</th>\n",
       "      <td>8514.000000</td>\n",
       "      <td>8512.000000</td>\n",
       "      <td>8510.000000</td>\n",
       "      <td>8485.000000</td>\n",
       "      <td>8510.000000</td>\n",
       "      <td>8505.000000</td>\n",
       "    </tr>\n",
       "    <tr>\n",
       "      <th>mean</th>\n",
       "      <td>28.429175</td>\n",
       "      <td>52.898221</td>\n",
       "      <td>104.765422</td>\n",
       "      <td>39.710860</td>\n",
       "      <td>71.394963</td>\n",
       "      <td>69.008268</td>\n",
       "    </tr>\n",
       "    <tr>\n",
       "      <th>std</th>\n",
       "      <td>13.911704</td>\n",
       "      <td>92.092463</td>\n",
       "      <td>186.234930</td>\n",
       "      <td>70.785346</td>\n",
       "      <td>125.432229</td>\n",
       "      <td>123.562137</td>\n",
       "    </tr>\n",
       "    <tr>\n",
       "      <th>min</th>\n",
       "      <td>0.000000</td>\n",
       "      <td>0.000000</td>\n",
       "      <td>0.000000</td>\n",
       "      <td>0.000000</td>\n",
       "      <td>0.000000</td>\n",
       "      <td>0.000000</td>\n",
       "    </tr>\n",
       "    <tr>\n",
       "      <th>25%</th>\n",
       "      <td>19.000000</td>\n",
       "      <td>0.000000</td>\n",
       "      <td>0.000000</td>\n",
       "      <td>0.000000</td>\n",
       "      <td>0.000000</td>\n",
       "      <td>0.000000</td>\n",
       "    </tr>\n",
       "    <tr>\n",
       "      <th>50%</th>\n",
       "      <td>27.000000</td>\n",
       "      <td>0.000000</td>\n",
       "      <td>0.000000</td>\n",
       "      <td>0.000000</td>\n",
       "      <td>0.000000</td>\n",
       "      <td>0.000000</td>\n",
       "    </tr>\n",
       "    <tr>\n",
       "      <th>75%</th>\n",
       "      <td>37.000000</td>\n",
       "      <td>47.000000</td>\n",
       "      <td>76.000000</td>\n",
       "      <td>27.000000</td>\n",
       "      <td>59.000000</td>\n",
       "      <td>46.000000</td>\n",
       "    </tr>\n",
       "    <tr>\n",
       "      <th>max</th>\n",
       "      <td>66.000000</td>\n",
       "      <td>224.687617</td>\n",
       "      <td>458.077203</td>\n",
       "      <td>173.729169</td>\n",
       "      <td>311.138778</td>\n",
       "      <td>304.854791</td>\n",
       "    </tr>\n",
       "  </tbody>\n",
       "</table>\n",
       "</div>"
      ],
      "text/plain": [
       "               Age  RoomService    FoodCourt  ShoppingMall          Spa  \\\n",
       "count  8514.000000  8512.000000  8510.000000   8485.000000  8510.000000   \n",
       "mean     28.429175    52.898221   104.765422     39.710860    71.394963   \n",
       "std      13.911704    92.092463   186.234930     70.785346   125.432229   \n",
       "min       0.000000     0.000000     0.000000      0.000000     0.000000   \n",
       "25%      19.000000     0.000000     0.000000      0.000000     0.000000   \n",
       "50%      27.000000     0.000000     0.000000      0.000000     0.000000   \n",
       "75%      37.000000    47.000000    76.000000     27.000000    59.000000   \n",
       "max      66.000000   224.687617   458.077203    173.729169   311.138778   \n",
       "\n",
       "            VRDeck  \n",
       "count  8505.000000  \n",
       "mean     69.008268  \n",
       "std     123.562137  \n",
       "min       0.000000  \n",
       "25%       0.000000  \n",
       "50%       0.000000  \n",
       "75%      46.000000  \n",
       "max     304.854791  "
      ]
     },
     "execution_count": 20,
     "metadata": {},
     "output_type": "execute_result"
    }
   ],
   "source": [
    "#===The new statistics for the Traindata after treating OUTLIERS===\n",
    "X.describe()"
   ]
  },
  {
   "cell_type": "markdown",
   "id": "fa4b22b7",
   "metadata": {
    "papermill": {
     "duration": 0.072531,
     "end_time": "2022-04-26T23:52:54.097199",
     "exception": false,
     "start_time": "2022-04-26T23:52:54.024668",
     "status": "completed"
    },
    "tags": []
   },
   "source": [
    "## **Are youngest passengers the most transported?**"
   ]
  },
  {
   "cell_type": "code",
   "execution_count": 21,
   "id": "f2f89133",
   "metadata": {
    "execution": {
     "iopub.execute_input": "2022-04-26T23:52:54.244758Z",
     "iopub.status.busy": "2022-04-26T23:52:54.244343Z",
     "iopub.status.idle": "2022-04-26T23:52:54.479901Z",
     "shell.execute_reply": "2022-04-26T23:52:54.479043Z"
    },
    "jupyter": {
     "source_hidden": true
    },
    "papermill": {
     "duration": 0.312457,
     "end_time": "2022-04-26T23:52:54.482163",
     "exception": false,
     "start_time": "2022-04-26T23:52:54.169706",
     "status": "completed"
    },
    "tags": []
   },
   "outputs": [
    {
     "data": {
      "text/plain": [
       "Text(0.5, 1.0, 'Age Histogram')"
      ]
     },
     "execution_count": 21,
     "metadata": {},
     "output_type": "execute_result"
    },
    {
     "data": {
      "image/png": "[encoded data removed]",
      "text/plain": [
       "<Figure size 1080x576 with 1 Axes>"
      ]
     },
     "metadata": {
      "needs_background": "light"
     },
     "output_type": "display_data"
    }
   ],
   "source": [
    "#SETTING UP THE PLOT\n",
    "fig, ax = plt.subplots(figsize=(15,8))\n",
    "#histogram of featur 'Age'\n",
    "ax.hist(X['Age'],bins = 3,alpha=0.9,density=False, color=my_colors[6], edgecolor='black', linewidth=2, histtype = 'bar', orientation = 'vertical', log=False)\n",
    "ax.set_xlabel('Age', size=22)\n",
    "ax.set_ylabel('Frequency', size=22)\n",
    "ax.set_title('Age Histogram', size=28, weight='normal')"
   ]
  },
  {
   "cell_type": "code",
   "execution_count": 22,
   "id": "cfaf9d29",
   "metadata": {
    "execution": {
     "iopub.execute_input": "2022-04-26T23:52:54.631787Z",
     "iopub.status.busy": "2022-04-26T23:52:54.631371Z",
     "iopub.status.idle": "2022-04-26T23:52:54.892622Z",
     "shell.execute_reply": "2022-04-26T23:52:54.891726Z"
    },
    "papermill": {
     "duration": 0.339319,
     "end_time": "2022-04-26T23:52:54.895331",
     "exception": false,
     "start_time": "2022-04-26T23:52:54.556012",
     "status": "completed"
    },
    "tags": []
   },
   "outputs": [
    {
     "name": "stdout",
     "output_type": "stream",
     "text": [
      "\u001b[1m\u001b[90mthis is the count of transported passengers aged 22 or younger: \u001b[0m 1656\n",
      "\u001b[1m\u001b[90mthis is the count of transported passengers aged between 23 and 44 YO: \u001b[0m 2064\n",
      "\u001b[1m\u001b[90mthis is the count of transported passengers aged 45 or older: \u001b[0m 568\n",
      "\n",
      "\n"
     ]
    },
    {
     "data": {
      "image/png": "[encoded data removed]",
      "text/plain": [
       "<Figure size 1440x576 with 1 Axes>"
      ]
     },
     "metadata": {
      "needs_background": "light"
     },
     "output_type": "display_data"
    }
   ],
   "source": [
    "#Passengers by Age\n",
    "t1= X[(X.Age<= 22)]\n",
    "t2= X[(X.Age>= 23)&(X.Age<=44)]\n",
    "t3= X[(X.Age > 44)]\n",
    "#Passengers Transported by Age\n",
    "t4= X[(X.Age<= 22) & (X.Transported== True)]\n",
    "t5= X[(X.Age>= 23)&(X.Age<=44) & (X.Transported== True)]\n",
    "t6= X[(X.Age> 44) & (X.Transported== True)]\n",
    "\n",
    "print(clr.S+\"this is the count of transported passengers aged 22 or younger: \"+clr.E, len(t4.index))\n",
    "print(clr.S+\"this is the count of transported passengers aged between 23 and 44 YO: \"+clr.E, len(t5.index))\n",
    "print(clr.S+\"this is the count of transported passengers aged 45 or older: \"+clr.E, len(t6.index))\n",
    "print()\n",
    "print()\n",
    "#====SETTING UP THE PLOT===========\n",
    "width=0.35\n",
    "etiq=['Youngs(22 or younger)', 'YoungAdults(23-44 YO)', 'Adults(45 or older)']\n",
    "x = np.arange(len(etiq)) \n",
    "y2=[len(t4.index),len(t5.index),len(t6.index)]\n",
    "#Quantity of NOT Transported can be obtained by subtracting the total of Tranported by Age from the total of passengers by Age\n",
    "y3=[len(t1.index)-len(t4.index),len(t2.index)-len(t5.index),len(t3.index)-len(t6.index)]\n",
    "\n",
    "fig,ax=plt.subplots(figsize=(20,8))\n",
    "tr= plt.bar(x-width/2, y2, color=[my_colors[5]], width=0.35, label=\"Transported\")\n",
    "nt= plt.bar(x+width/2, y3, color=[my_colors[7]], width=0.35, label=\"NOT Transported\")\n",
    "plt.legend()\n",
    "plt.title('PASSENGERS TRANSPORTED AND NOT TRANSPORTED BY AGE', size=28, weight='heavy')\n",
    "show_values_on_bars(ax, h_v=\"v\", space=.01)\n",
    "ax.set_xticks(x,['Youngs(22 or younger)', 'YoungAdults(23-44 YO)', 'Adults(45 or older)']) \n",
    "ax.set_ylabel('Passengers Qty', size=22)\n",
    "ax.set_xlabel('Age Groups', size=22)\n",
    "plt.xticks(size=16)\n",
    "plt.yticks(size=16)\n",
    "plt.legend(fontsize='xx-large')\n",
    "sns.despine(left=True, bottom=True)\n",
    "plt.show()"
   ]
  },
  {
   "cell_type": "markdown",
   "id": "0e742794",
   "metadata": {
    "papermill": {
     "duration": 0.078188,
     "end_time": "2022-04-26T23:52:55.050992",
     "exception": false,
     "start_time": "2022-04-26T23:52:54.972804",
     "status": "completed"
    },
    "tags": []
   },
   "source": [
    "### As we can see in the previous graph the most transported were the \"YoungAdults\" age group SO the answer for the question is NO, the youngest passengers not were the most transported to the unknokwn dimension...."
   ]
  },
  {
   "cell_type": "code",
   "execution_count": 23,
   "id": "6b2cc304",
   "metadata": {
    "execution": {
     "iopub.execute_input": "2022-04-26T23:52:55.206472Z",
     "iopub.status.busy": "2022-04-26T23:52:55.206187Z",
     "iopub.status.idle": "2022-04-26T23:52:55.221622Z",
     "shell.execute_reply": "2022-04-26T23:52:55.220899Z"
    },
    "papermill": {
     "duration": 0.095547,
     "end_time": "2022-04-26T23:52:55.223444",
     "exception": false,
     "start_time": "2022-04-26T23:52:55.127897",
     "status": "completed"
    },
    "tags": []
   },
   "outputs": [
    {
     "data": {
      "text/html": [
       "<div>\n",
       "<style scoped>\n",
       "    .dataframe tbody tr th:only-of-type {\n",
       "        vertical-align: middle;\n",
       "    }\n",
       "\n",
       "    .dataframe tbody tr th {\n",
       "        vertical-align: top;\n",
       "    }\n",
       "\n",
       "    .dataframe thead th {\n",
       "        text-align: right;\n",
       "    }\n",
       "</style>\n",
       "<table border=\"1\" class=\"dataframe\">\n",
       "  <thead>\n",
       "    <tr style=\"text-align: right;\">\n",
       "      <th></th>\n",
       "      <th>Age</th>\n",
       "      <th>RoomService</th>\n",
       "      <th>FoodCourt</th>\n",
       "      <th>ShoppingMall</th>\n",
       "      <th>Spa</th>\n",
       "      <th>VRDeck</th>\n",
       "      <th>Transported</th>\n",
       "    </tr>\n",
       "  </thead>\n",
       "  <tbody>\n",
       "    <tr>\n",
       "      <th>Age</th>\n",
       "      <td>1.000000</td>\n",
       "      <td>0.109101</td>\n",
       "      <td>0.193220</td>\n",
       "      <td>0.092116</td>\n",
       "      <td>0.149714</td>\n",
       "      <td>0.142000</td>\n",
       "      <td>-0.075659</td>\n",
       "    </tr>\n",
       "    <tr>\n",
       "      <th>RoomService</th>\n",
       "      <td>0.109101</td>\n",
       "      <td>1.000000</td>\n",
       "      <td>0.012682</td>\n",
       "      <td>0.303821</td>\n",
       "      <td>0.077270</td>\n",
       "      <td>0.032802</td>\n",
       "      <td>-0.333786</td>\n",
       "    </tr>\n",
       "    <tr>\n",
       "      <th>FoodCourt</th>\n",
       "      <td>0.193220</td>\n",
       "      <td>0.012682</td>\n",
       "      <td>1.000000</td>\n",
       "      <td>0.035669</td>\n",
       "      <td>0.299552</td>\n",
       "      <td>0.350589</td>\n",
       "      <td>-0.096808</td>\n",
       "    </tr>\n",
       "    <tr>\n",
       "      <th>ShoppingMall</th>\n",
       "      <td>0.092116</td>\n",
       "      <td>0.303821</td>\n",
       "      <td>0.035669</td>\n",
       "      <td>1.000000</td>\n",
       "      <td>0.088855</td>\n",
       "      <td>0.042825</td>\n",
       "      <td>-0.157009</td>\n",
       "    </tr>\n",
       "    <tr>\n",
       "      <th>Spa</th>\n",
       "      <td>0.149714</td>\n",
       "      <td>0.077270</td>\n",
       "      <td>0.299552</td>\n",
       "      <td>0.088855</td>\n",
       "      <td>1.000000</td>\n",
       "      <td>0.258480</td>\n",
       "      <td>-0.333338</td>\n",
       "    </tr>\n",
       "    <tr>\n",
       "      <th>VRDeck</th>\n",
       "      <td>0.142000</td>\n",
       "      <td>0.032802</td>\n",
       "      <td>0.350589</td>\n",
       "      <td>0.042825</td>\n",
       "      <td>0.258480</td>\n",
       "      <td>1.000000</td>\n",
       "      <td>-0.308624</td>\n",
       "    </tr>\n",
       "    <tr>\n",
       "      <th>Transported</th>\n",
       "      <td>-0.075659</td>\n",
       "      <td>-0.333786</td>\n",
       "      <td>-0.096808</td>\n",
       "      <td>-0.157009</td>\n",
       "      <td>-0.333338</td>\n",
       "      <td>-0.308624</td>\n",
       "      <td>1.000000</td>\n",
       "    </tr>\n",
       "  </tbody>\n",
       "</table>\n",
       "</div>"
      ],
      "text/plain": [
       "                   Age  RoomService  FoodCourt  ShoppingMall       Spa  \\\n",
       "Age           1.000000     0.109101   0.193220      0.092116  0.149714   \n",
       "RoomService   0.109101     1.000000   0.012682      0.303821  0.077270   \n",
       "FoodCourt     0.193220     0.012682   1.000000      0.035669  0.299552   \n",
       "ShoppingMall  0.092116     0.303821   0.035669      1.000000  0.088855   \n",
       "Spa           0.149714     0.077270   0.299552      0.088855  1.000000   \n",
       "VRDeck        0.142000     0.032802   0.350589      0.042825  0.258480   \n",
       "Transported  -0.075659    -0.333786  -0.096808     -0.157009 -0.333338   \n",
       "\n",
       "                VRDeck  Transported  \n",
       "Age           0.142000    -0.075659  \n",
       "RoomService   0.032802    -0.333786  \n",
       "FoodCourt     0.350589    -0.096808  \n",
       "ShoppingMall  0.042825    -0.157009  \n",
       "Spa           0.258480    -0.333338  \n",
       "VRDeck        1.000000    -0.308624  \n",
       "Transported  -0.308624     1.000000  "
      ]
     },
     "execution_count": 23,
     "metadata": {},
     "output_type": "execute_result"
    }
   ],
   "source": [
    "#Let's see the correlations with the Target('Transported')\n",
    "X.corr()"
   ]
  },
  {
   "cell_type": "markdown",
   "id": "2507c573",
   "metadata": {
    "papermill": {
     "duration": 0.076736,
     "end_time": "2022-04-26T23:52:55.377068",
     "exception": false,
     "start_time": "2022-04-26T23:52:55.300332",
     "status": "completed"
    },
    "tags": []
   },
   "source": [
    "### The matrix shows that there is no strong relationship between numerical variables and the Target"
   ]
  },
  {
   "cell_type": "code",
   "execution_count": 24,
   "id": "f0a80e8e",
   "metadata": {
    "execution": {
     "iopub.execute_input": "2022-04-26T23:52:55.535474Z",
     "iopub.status.busy": "2022-04-26T23:52:55.535199Z",
     "iopub.status.idle": "2022-04-26T23:52:59.552000Z",
     "shell.execute_reply": "2022-04-26T23:52:59.550888Z"
    },
    "papermill": {
     "duration": 4.10026,
     "end_time": "2022-04-26T23:52:59.554482",
     "exception": false,
     "start_time": "2022-04-26T23:52:55.454222",
     "status": "completed"
    },
    "tags": []
   },
   "outputs": [
    {
     "name": "stdout",
     "output_type": "stream",
     "text": [
      "\u001b[1m\u001b[90m1 P-value of PassengerId: \u001b[0m 0.49495731665065185\n",
      "\u001b[1m\u001b[90m2 P-value for HomePlanet: \u001b[0m 2.809059985251311e-71\n",
      "\u001b[1m\u001b[90m3 P-value for CryoSleep: \u001b[0m 0.0\n",
      "\u001b[1m\u001b[90m4 P-value for Cabin: \u001b[0m 0.006047486175171033\n",
      "\u001b[1m\u001b[90m5 P-value for Destination: \u001b[0m 7.892901466137099e-24\n",
      "\u001b[1m\u001b[90m6 P-value for VIP: \u001b[0m 0.0006804064556968345\n",
      "\u001b[1m\u001b[90m7 P-value for Name: \u001b[0m 0.4887678645272412\n"
     ]
    }
   ],
   "source": [
    "#Let's check correlations between categorical variables and the target\n",
    "from scipy.stats import chi2_contingency\n",
    "\n",
    "#Let's start evaluating PassengerId\n",
    "csq=chi2_contingency(pd.crosstab(X['Transported'], X['PassengerId']))\n",
    "print(clr.S+\"1 P-value of PassengerId: \"+clr.E,csq[1])\n",
    "\n",
    "#Let's continue evaluating HomePlanet\n",
    "csq2=chi2_contingency(pd.crosstab(X['Transported'], X['HomePlanet']))\n",
    "print(clr.S+\"2 P-value for HomePlanet: \"+clr.E,csq2[1])\n",
    "\n",
    "#Let's continue evaluating CryoSleep\n",
    "csq3=chi2_contingency(pd.crosstab(X['Transported'], X['CryoSleep']))\n",
    "print(clr.S+\"3 P-value for CryoSleep: \"+clr.E,csq3[1])\n",
    "\n",
    "#Let's continue evaluating Cabin\n",
    "csq4=chi2_contingency(pd.crosstab(X['Transported'], X['Cabin']))\n",
    "print(clr.S+\"4 P-value for Cabin: \"+clr.E,csq4[1])\n",
    "\n",
    "#Let's continue evaluating Destination\n",
    "csq5=chi2_contingency(pd.crosstab(X['Transported'], X['Destination']))\n",
    "print(clr.S+\"5 P-value for Destination: \"+clr.E,csq5[1])\n",
    "\n",
    "#Let's continue evaluating VIP\n",
    "csq6=chi2_contingency(pd.crosstab(X['Transported'], X['VIP']))\n",
    "print(clr.S+\"6 P-value for VIP: \"+clr.E,csq6[1])\n",
    "\n",
    "#Let's continue evaluating Name\n",
    "csq6=chi2_contingency(pd.crosstab(X['Transported'], X['Name']))\n",
    "print(clr.S+\"7 P-value for Name: \"+clr.E,csq6[1])\n",
    " "
   ]
  },
  {
   "cell_type": "markdown",
   "id": "32418071",
   "metadata": {
    "papermill": {
     "duration": 0.077713,
     "end_time": "2022-04-26T23:52:59.710032",
     "exception": false,
     "start_time": "2022-04-26T23:52:59.632319",
     "status": "completed"
    },
    "tags": []
   },
   "source": [
    "### After seeing p-values of the variables 'HomePlanet', 'CryoSleep', 'Cabin', 'Destination' and 'VIP' I can think that they can apport some valuable info about the target ('Transported') given that their respectives p-values are lower than 0.05 so the null hypothesis (which reads the variables are independent) can be rejected."
   ]
  },
  {
   "cell_type": "code",
   "execution_count": 25,
   "id": "227f3111",
   "metadata": {
    "execution": {
     "iopub.execute_input": "2022-04-26T23:52:59.865933Z",
     "iopub.status.busy": "2022-04-26T23:52:59.865638Z",
     "iopub.status.idle": "2022-04-26T23:52:59.874527Z",
     "shell.execute_reply": "2022-04-26T23:52:59.873727Z"
    },
    "papermill": {
     "duration": 0.089303,
     "end_time": "2022-04-26T23:52:59.876591",
     "exception": false,
     "start_time": "2022-04-26T23:52:59.787288",
     "status": "completed"
    },
    "tags": []
   },
   "outputs": [
    {
     "data": {
      "text/plain": [
       "TRAPPIST-1e      5915\n",
       "55 Cancri e      1800\n",
       "PSO J318.5-22     796\n",
       "Name: Destination, dtype: int64"
      ]
     },
     "execution_count": 25,
     "metadata": {},
     "output_type": "execute_result"
    }
   ],
   "source": [
    "X['Destination'].value_counts()   "
   ]
  },
  {
   "cell_type": "code",
   "execution_count": 26,
   "id": "d8eed488",
   "metadata": {
    "execution": {
     "iopub.execute_input": "2022-04-26T23:53:00.034367Z",
     "iopub.status.busy": "2022-04-26T23:53:00.034076Z",
     "iopub.status.idle": "2022-04-26T23:53:00.299856Z",
     "shell.execute_reply": "2022-04-26T23:53:00.298891Z"
    },
    "jupyter": {
     "source_hidden": true
    },
    "papermill": {
     "duration": 0.34792,
     "end_time": "2022-04-26T23:53:00.302160",
     "exception": false,
     "start_time": "2022-04-26T23:52:59.954240",
     "status": "completed"
    },
    "tags": []
   },
   "outputs": [
    {
     "name": "stdout",
     "output_type": "stream",
     "text": [
      "\u001b[1m\u001b[90mthis is the count of transported passengers coming from Planet Earth: \u001b[0m 1951\n",
      "\u001b[1m\u001b[90mthis is the count of transported passengers coming from Planet Europa: \u001b[0m 1404\n",
      "\u001b[1m\u001b[90mthis is the count of transported passengers coming from Planet Mars: \u001b[0m 920\n",
      "\n",
      "\n"
     ]
    },
    {
     "data": {
      "image/png": "[encoded data removed]",
      "text/plain": [
       "<Figure size 1440x576 with 1 Axes>"
      ]
     },
     "metadata": {
      "needs_background": "light"
     },
     "output_type": "display_data"
    }
   ],
   "source": [
    "#Passengers by HomePlanet\n",
    "h1= X[(X.HomePlanet== 'Earth')]\n",
    "h2= X[(X.HomePlanet== 'Europa')]\n",
    "h3= X[(X.HomePlanet== 'Mars')]\n",
    "#Passengers Transported by HomePlanet\n",
    "h4= X[(X.HomePlanet== 'Earth') & (X.Transported== True)]\n",
    "h5= X[(X.HomePlanet== 'Europa') & (X.Transported== True)]\n",
    "h6= X[(X.HomePlanet== 'Mars') & (X.Transported== True)]\n",
    "\n",
    "print(clr.S+\"this is the count of transported passengers coming from Planet Earth: \"+clr.E, len(h4.index))\n",
    "print(clr.S+\"this is the count of transported passengers coming from Planet Europa: \"+clr.E, len(h5.index))\n",
    "print(clr.S+\"this is the count of transported passengers coming from Planet Mars: \"+clr.E, len(h6.index))\n",
    "print()\n",
    "print()\n",
    "#====SETTING UP THE PLOT===========\n",
    "width=0.35\n",
    "etiq=['Earth', 'Europa', 'Mars']\n",
    "x = np.arange(len(etiq)) \n",
    "y2=[len(h4.index),len(h5.index),len(h6.index)]\n",
    "#Quantity of NOT Transported can be obtained by subtracting the total of Tranported by HomePlanet from the total of passengers by HomePlanet \n",
    "y3=[len(h1.index)-len(h4.index),len(h2.index)-len(h5.index),len(h3.index)-len(h6.index)]\n",
    "\n",
    "fig,ax=plt.subplots(figsize=(20,8))\n",
    "tr= plt.bar(x-width/2, y2, color=[my_colors[0]], width=0.35, label=\"Transported\")\n",
    "nt= plt.bar(x+width/2, y3, color=[my_colors[2]], width=0.35, label=\"NOT Transported\")\n",
    "plt.legend()\n",
    "plt.title('PASSENGERS TRANSPORTED AND NOT TRANSPORTED BY HOMEPLANET', size=28, weight='heavy')\n",
    "show_values_on_bars(ax, h_v=\"v\", space=.01)\n",
    "ax.set_xticks(x,etiq) \n",
    "ax.set_ylabel('Qty Passengers', size=22)\n",
    "ax.set_xlabel('HomePlanet', size=22)\n",
    "plt.xticks(size=16)\n",
    "plt.yticks(size=16)\n",
    "plt.legend(fontsize='xx-large')\n",
    "sns.despine(left=True, bottom=True)\n",
    "plt.show()"
   ]
  },
  {
   "cell_type": "code",
   "execution_count": 27,
   "id": "c15c1997",
   "metadata": {
    "execution": {
     "iopub.execute_input": "2022-04-26T23:53:00.466316Z",
     "iopub.status.busy": "2022-04-26T23:53:00.465363Z",
     "iopub.status.idle": "2022-04-26T23:53:00.746235Z",
     "shell.execute_reply": "2022-04-26T23:53:00.745259Z"
    },
    "papermill": {
     "duration": 0.366181,
     "end_time": "2022-04-26T23:53:00.748666",
     "exception": false,
     "start_time": "2022-04-26T23:53:00.382485",
     "status": "completed"
    },
    "tags": []
   },
   "outputs": [
    {
     "name": "stdout",
     "output_type": "stream",
     "text": [
      "\u001b[1m\u001b[90mthis is the count of transported passengers with Destination TRAPPIST-1e : \u001b[0m 2787\n",
      "\u001b[1m\u001b[90mthis is the count of transported passengers with Destination 55 Cancri e : \u001b[0m 1098\n",
      "\u001b[1m\u001b[90mthis is the count of transported passengers with Destination PSO J318.5-22 : \u001b[0m 401\n",
      "\n",
      "\n"
     ]
    },
    {
     "data": {
      "image/png": "[encoded data removed]",
      "text/plain": [
       "<Figure size 1440x576 with 1 Axes>"
      ]
     },
     "metadata": {
      "needs_background": "light"
     },
     "output_type": "display_data"
    }
   ],
   "source": [
    "#Passengers by Destination\n",
    "d1= X[(X.Destination== 'TRAPPIST-1e')]\n",
    "d2= X[(X.Destination== '55 Cancri e')]\n",
    "d3= X[(X.Destination== 'PSO J318.5-22')]\n",
    "#Passengers Transported by Destination\n",
    "d4= X[(X.Destination== 'TRAPPIST-1e') & (X.Transported== True)]\n",
    "d5= X[(X.Destination== '55 Cancri e') & (X.Transported== True)]\n",
    "d6= X[(X.Destination== 'PSO J318.5-22') & (X.Transported== True)]\n",
    "\n",
    "print(clr.S+\"this is the count of transported passengers with Destination TRAPPIST-1e : \"+clr.E, len(d4.index))\n",
    "print(clr.S+\"this is the count of transported passengers with Destination 55 Cancri e : \"+clr.E, len(d5.index))\n",
    "print(clr.S+\"this is the count of transported passengers with Destination PSO J318.5-22 : \"+clr.E, len(d6.index))\n",
    "print()\n",
    "print()\n",
    "#====SETTING UP THE PLOT===========\n",
    "width=0.35\n",
    "etiq=['TRAPPIST-1e', '55 Cancri e', 'PSO J318.5-22']\n",
    "x = np.arange(len(etiq)) \n",
    "y2=[len(d4.index),len(d5.index),len(d6.index)]\n",
    "#Quantity of NOT Transported can be obtained by subtracting the total of Tranported by Destination from the total of passengers by Destination\n",
    "y3=[len(d1.index)-len(d4.index),len(d2.index)-len(d5.index),len(d3.index)-len(d6.index)]\n",
    "\n",
    "fig,ax=plt.subplots(figsize=(20,8))\n",
    "tr= plt.bar(x-width/2, y2, color=[my_colors[3]], width=0.35, label=\"Transported\")\n",
    "nt= plt.bar(x+width/2, y3, color=[my_colors[6]], width=0.35, label=\"NOT Transported\")\n",
    "plt.legend()\n",
    "plt.title('PASSENGERS TRANSPORTED AND NOT TRANSPORTED BY DESTINATION', size=28, weight='heavy')\n",
    "show_values_on_bars(ax, h_v=\"v\", space=.01)\n",
    "ax.set_xticks(x,etiq) \n",
    "ax.set_ylabel('Qty Passengers', size=22)\n",
    "ax.set_xlabel('Destination', size=22)\n",
    "plt.xticks(size=16)\n",
    "plt.yticks(size=16)\n",
    "plt.legend(fontsize='xx-large')\n",
    "sns.despine(left=True, bottom=True)\n",
    "plt.show()"
   ]
  },
  {
   "cell_type": "code",
   "execution_count": 28,
   "id": "7a9b532f",
   "metadata": {
    "execution": {
     "iopub.execute_input": "2022-04-26T23:53:00.914284Z",
     "iopub.status.busy": "2022-04-26T23:53:00.914014Z",
     "iopub.status.idle": "2022-04-26T23:53:00.932098Z",
     "shell.execute_reply": "2022-04-26T23:53:00.931431Z"
    },
    "papermill": {
     "duration": 0.104513,
     "end_time": "2022-04-26T23:53:00.935400",
     "exception": false,
     "start_time": "2022-04-26T23:53:00.830887",
     "status": "completed"
    },
    "tags": []
   },
   "outputs": [
    {
     "name": "stdout",
     "output_type": "stream",
     "text": [
      "\u001b[1m\u001b[90m8 P-value for Name: \u001b[0m 2.0026455334311217e-246\n"
     ]
    }
   ],
   "source": [
    "#Relation between HomePlanet and Destination\n",
    "csq7=chi2_contingency(pd.crosstab(X['HomePlanet'], X['Destination']))\n",
    "print(clr.S+\"8 P-value for Name: \"+clr.E,csq7[1])"
   ]
  },
  {
   "cell_type": "markdown",
   "id": "7593df54",
   "metadata": {
    "papermill": {
     "duration": 0.083928,
     "end_time": "2022-04-26T23:53:01.103188",
     "exception": false,
     "start_time": "2022-04-26T23:53:01.019260",
     "status": "completed"
    },
    "tags": []
   },
   "source": [
    "### It seems that HomePlanet and Destination have a very strong dependence on each other"
   ]
  },
  {
   "cell_type": "markdown",
   "id": "a8bbc37e",
   "metadata": {
    "papermill": {
     "duration": 0.083833,
     "end_time": "2022-04-26T23:53:01.271603",
     "exception": false,
     "start_time": "2022-04-26T23:53:01.187770",
     "status": "completed"
    },
    "tags": []
   },
   "source": [
    "# THE MODELS"
   ]
  },
  {
   "cell_type": "markdown",
   "id": "823816cd",
   "metadata": {
    "papermill": {
     "duration": 0.082707,
     "end_time": "2022-04-26T23:53:01.437244",
     "exception": false,
     "start_time": "2022-04-26T23:53:01.354537",
     "status": "completed"
    },
    "tags": []
   },
   "source": [
    "### I will use RandomForestClassifier and XGBoostClassifier and score their results in order to choose the best model to make my predictions"
   ]
  },
  {
   "cell_type": "code",
   "execution_count": 29,
   "id": "63210db0",
   "metadata": {
    "execution": {
     "iopub.execute_input": "2022-04-26T23:53:01.604598Z",
     "iopub.status.busy": "2022-04-26T23:53:01.604023Z",
     "iopub.status.idle": "2022-04-26T23:53:01.613599Z",
     "shell.execute_reply": "2022-04-26T23:53:01.612907Z"
    },
    "papermill": {
     "duration": 0.095839,
     "end_time": "2022-04-26T23:53:01.615781",
     "exception": false,
     "start_time": "2022-04-26T23:53:01.519942",
     "status": "completed"
    },
    "tags": []
   },
   "outputs": [],
   "source": [
    "#Select Target\n",
    "y = X.Transported \n",
    "#Select Predictors             \n",
    "X.drop(['Transported'], axis=1, inplace=True)\n",
    "\n",
    "# Break off validation set from training data\n",
    "X_train_full, X_valid_full, y_train, y_valid = train_test_split(X, y, train_size=0.8, test_size=0.2,\n",
    "                                                                random_state=0)\n",
    "\n",
    "\n"
   ]
  },
  {
   "cell_type": "code",
   "execution_count": 30,
   "id": "20e95ff7",
   "metadata": {
    "execution": {
     "iopub.execute_input": "2022-04-26T23:53:01.784503Z",
     "iopub.status.busy": "2022-04-26T23:53:01.783942Z",
     "iopub.status.idle": "2022-04-26T23:53:01.804057Z",
     "shell.execute_reply": "2022-04-26T23:53:01.802867Z"
    },
    "papermill": {
     "duration": 0.107427,
     "end_time": "2022-04-26T23:53:01.806585",
     "exception": false,
     "start_time": "2022-04-26T23:53:01.699158",
     "status": "completed"
    },
    "tags": []
   },
   "outputs": [
    {
     "name": "stdout",
     "output_type": "stream",
     "text": [
      "\u001b[1m\u001b[90mThis is the count of unique values for categorical variables:\u001b[0m\n"
     ]
    },
    {
     "data": {
      "text/plain": [
       "[('CryoSleep', 2),\n",
       " ('VIP', 2),\n",
       " ('HomePlanet', 3),\n",
       " ('Destination', 3),\n",
       " ('Cabin', 5449),\n",
       " ('Name', 6787),\n",
       " ('PassengerId', 6954)]"
      ]
     },
     "execution_count": 30,
     "metadata": {},
     "output_type": "execute_result"
    }
   ],
   "source": [
    "# Categorical columns in the training data\n",
    "object_cols = [col for col in X_train_full.columns if X_train_full[col].dtype == \"object\"]\n",
    "# Get number of unique entries in each column with categorical data\n",
    "object_nunique = list(map(lambda col: X_train_full[col].nunique(), object_cols))\n",
    "d = dict(zip(object_cols, object_nunique))\n",
    "\n",
    "# Print number of unique entries by column, in ascending order\n",
    "print(clr.S+\"This is the count of unique values for categorical variables:\"+clr.E)\n",
    "sorted(d.items(), key=lambda x: x[1])"
   ]
  },
  {
   "cell_type": "code",
   "execution_count": 31,
   "id": "6542db53",
   "metadata": {
    "execution": {
     "iopub.execute_input": "2022-04-26T23:53:01.976509Z",
     "iopub.status.busy": "2022-04-26T23:53:01.975721Z",
     "iopub.status.idle": "2022-04-26T23:53:02.007399Z",
     "shell.execute_reply": "2022-04-26T23:53:02.006490Z"
    },
    "papermill": {
     "duration": 0.119236,
     "end_time": "2022-04-26T23:53:02.009928",
     "exception": false,
     "start_time": "2022-04-26T23:53:01.890692",
     "status": "completed"
    },
    "tags": []
   },
   "outputs": [],
   "source": [
    "# \"Cardinality\" means the number of unique values in a column\n",
    "# Separating categorical features by cardinality\n",
    "low_cardinality_cols = [cname for cname in X_train_full.columns if X_train_full[cname].nunique() < 10 and \n",
    "                        X_train_full[cname].dtype == \"object\"]\n",
    "high_cardinality_cols =[cname for cname in X_train_full.columns if X_train_full[cname].nunique() >= 10 and \n",
    "                        X_train_full[cname].dtype == \"object\"]\n",
    "# Select numeric columns\n",
    "numeric_cols = [cname for cname in X_train_full.columns if X_train_full[cname].dtype in ['int64', 'float64']]\n",
    "\n",
    "\n",
    "# Keep selected columns only(I'll use only low_cardinality_cols for categorical features)\n",
    "my_cols = low_cardinality_cols + numeric_cols\n",
    "X_train = X_train_full[my_cols].copy()\n",
    "X_valid = X_valid_full[my_cols].copy()\n",
    "X_test = Xtest[my_cols].copy()"
   ]
  },
  {
   "cell_type": "code",
   "execution_count": 32,
   "id": "05e09ac1",
   "metadata": {
    "execution": {
     "iopub.execute_input": "2022-04-26T23:53:02.177899Z",
     "iopub.status.busy": "2022-04-26T23:53:02.177570Z",
     "iopub.status.idle": "2022-04-26T23:53:02.184234Z",
     "shell.execute_reply": "2022-04-26T23:53:02.183435Z"
    },
    "papermill": {
     "duration": 0.092832,
     "end_time": "2022-04-26T23:53:02.185978",
     "exception": false,
     "start_time": "2022-04-26T23:53:02.093146",
     "status": "completed"
    },
    "tags": []
   },
   "outputs": [],
   "source": [
    "#PIPELINE FOR PREPROCESSING DATA=====================\n",
    "# Preprocessing for numerical data\n",
    "from sklearn.preprocessing import StandardScaler\n",
    "numerical_transformer = Pipeline(\n",
    "                        steps=[\n",
    "                            ('imputer', SimpleImputer(strategy='mean')),\n",
    "                            ('scaler', StandardScaler())\n",
    "                        ]\n",
    "                      )\n",
    "# Preprocessing for categorical data with low cardinality\n",
    "categorical_transformer = Pipeline(steps=[\n",
    "    ('imputer', SimpleImputer(strategy='most_frequent')),\n",
    "    ('onehot', OneHotEncoder(handle_unknown='ignore', sparse=False))\n",
    "     ]\n",
    "    )\n",
    "\n",
    "# Merging the preprocessing of numerical data and categorical data in one step\n",
    "preprocessor = ColumnTransformer(\n",
    "    transformers=[\n",
    "        ('num', numerical_transformer, numeric_cols),\n",
    "        ('cat', categorical_transformer, low_cardinality_cols)\n",
    "    ])"
   ]
  },
  {
   "cell_type": "code",
   "execution_count": 33,
   "id": "042a7ac4",
   "metadata": {
    "execution": {
     "iopub.execute_input": "2022-04-26T23:53:02.356252Z",
     "iopub.status.busy": "2022-04-26T23:53:02.355618Z",
     "iopub.status.idle": "2022-04-26T23:53:02.398379Z",
     "shell.execute_reply": "2022-04-26T23:53:02.397792Z"
    },
    "papermill": {
     "duration": 0.129543,
     "end_time": "2022-04-26T23:53:02.400647",
     "exception": false,
     "start_time": "2022-04-26T23:53:02.271104",
     "status": "completed"
    },
    "tags": []
   },
   "outputs": [],
   "source": [
    "#============PIPELINE for PREPROCESSING DATA==============\n",
    "pipeline= Pipeline(steps=[('preprocessor', preprocessor)])\n",
    "\n",
    "# Transformation of data \n",
    "X_train = pipeline.fit_transform(X_train)\n",
    "X_valid = pipeline.transform(X_valid)"
   ]
  },
  {
   "cell_type": "code",
   "execution_count": 34,
   "id": "dc749897",
   "metadata": {
    "execution": {
     "iopub.execute_input": "2022-04-26T23:53:02.577126Z",
     "iopub.status.busy": "2022-04-26T23:53:02.576511Z",
     "iopub.status.idle": "2022-04-26T23:54:47.958953Z",
     "shell.execute_reply": "2022-04-26T23:54:47.957931Z"
    },
    "papermill": {
     "duration": 105.559415,
     "end_time": "2022-04-26T23:54:48.044212",
     "exception": false,
     "start_time": "2022-04-26T23:53:02.484797",
     "status": "completed"
    },
    "tags": []
   },
   "outputs": [
    {
     "name": "stdout",
     "output_type": "stream",
     "text": [
      "{'criterion': 'gini', 'n_estimators': 800}\n",
      "\n",
      "RandomForestClassifier(bootstrap=[False], n_estimators=800, random_state=42)\n"
     ]
    }
   ],
   "source": [
    "#DEFINING THE FIRST MODEL\n",
    "model1= RandomForestClassifier(bootstrap=[False], random_state=42)\n",
    "\n",
    "#CHOOSING BEST HYPERPARAMS FOR THE MODEL\n",
    "from sklearn.model_selection import GridSearchCV\n",
    "param_grid = {'n_estimators': range(400,1000,100),'criterion':['gini', 'entropy']}\n",
    "\n",
    "grid= GridSearchCV(model1, param_grid, cv=5, scoring='neg_log_loss', n_jobs=-1)\n",
    "\n",
    "grid.fit(X_train,y_train)\n",
    "\n",
    "#Returns best parameters for the model\n",
    "bparam=grid.best_params_\n",
    "print(bparam)\n",
    "print()\n",
    "#Returns best estimators\n",
    "bestimator = grid.best_estimator_\n",
    "print(bestimator)"
   ]
  },
  {
   "cell_type": "code",
   "execution_count": 35,
   "id": "41db96f2",
   "metadata": {
    "execution": {
     "iopub.execute_input": "2022-04-26T23:54:48.215526Z",
     "iopub.status.busy": "2022-04-26T23:54:48.214952Z",
     "iopub.status.idle": "2022-04-26T23:54:53.774503Z",
     "shell.execute_reply": "2022-04-26T23:54:53.773886Z"
    },
    "papermill": {
     "duration": 5.646701,
     "end_time": "2022-04-26T23:54:53.776388",
     "exception": false,
     "start_time": "2022-04-26T23:54:48.129687",
     "status": "completed"
    },
    "tags": []
   },
   "outputs": [
    {
     "data": {
      "text/plain": [
       "RandomForestClassifier(bootstrap=[False], n_estimators=800, random_state=42)"
      ]
     },
     "execution_count": 35,
     "metadata": {},
     "output_type": "execute_result"
    }
   ],
   "source": [
    "model1= RandomForestClassifier(bootstrap=[False], n_estimators=800, random_state=42, criterion='gini')\n",
    "\n",
    "#fitting the model\n",
    "model1.fit(X_train, y_train)"
   ]
  },
  {
   "cell_type": "code",
   "execution_count": 36,
   "id": "a6d10501",
   "metadata": {
    "execution": {
     "iopub.execute_input": "2022-04-26T23:54:53.947349Z",
     "iopub.status.busy": "2022-04-26T23:54:53.946790Z",
     "iopub.status.idle": "2022-04-26T23:54:54.383972Z",
     "shell.execute_reply": "2022-04-26T23:54:54.383282Z"
    },
    "papermill": {
     "duration": 0.526602,
     "end_time": "2022-04-26T23:54:54.386341",
     "exception": false,
     "start_time": "2022-04-26T23:54:53.859739",
     "status": "completed"
    },
    "tags": []
   },
   "outputs": [],
   "source": [
    "#Testing predictions on Valid data\n",
    "preds1=model1.predict(X_valid)"
   ]
  },
  {
   "cell_type": "code",
   "execution_count": 37,
   "id": "7f2b0e3c",
   "metadata": {
    "execution": {
     "iopub.execute_input": "2022-04-26T23:54:54.556005Z",
     "iopub.status.busy": "2022-04-26T23:54:54.555493Z",
     "iopub.status.idle": "2022-04-26T23:54:54.569671Z",
     "shell.execute_reply": "2022-04-26T23:54:54.568997Z"
    },
    "papermill": {
     "duration": 0.101877,
     "end_time": "2022-04-26T23:54:54.571675",
     "exception": false,
     "start_time": "2022-04-26T23:54:54.469798",
     "status": "completed"
    },
    "tags": []
   },
   "outputs": [
    {
     "name": "stdout",
     "output_type": "stream",
     "text": [
      "Confusion-Matrix for Random Forest Classifier: \n",
      "[[629 237]\n",
      " [234 639]]\n",
      "Accuracy for Random Forest Classifier:  0.7291546866014951\n",
      "Precision for Random Forest Classifier:  0.7294520547945206\n",
      "Sensitivity for Random Forest Classifier:  0.7319587628865979\n",
      "F-Score for Random Forest Classifier:  0.7307032590051458\n"
     ]
    }
   ],
   "source": [
    "#Scoring the model\n",
    "print('Confusion-Matrix for Random Forest Classifier: ')\n",
    "print(confusion_matrix(preds1,y_valid))\n",
    "print(\"Accuracy for Random Forest Classifier: \",accuracy_score(preds1,y_valid))\n",
    "print(\"Precision for Random Forest Classifier: \",precision_score(preds1,y_valid))\n",
    "print(\"Sensitivity for Random Forest Classifier: \", recall_score(preds1,y_valid))\n",
    "print(\"F-Score for Random Forest Classifier: \", f1_score(preds1,y_valid))"
   ]
  },
  {
   "cell_type": "code",
   "execution_count": 38,
   "id": "4a596f0d",
   "metadata": {
    "execution": {
     "iopub.execute_input": "2022-04-26T23:54:54.742397Z",
     "iopub.status.busy": "2022-04-26T23:54:54.741843Z",
     "iopub.status.idle": "2022-04-26T23:54:59.514337Z",
     "shell.execute_reply": "2022-04-26T23:54:59.513576Z"
    },
    "papermill": {
     "duration": 4.860805,
     "end_time": "2022-04-26T23:54:59.516506",
     "exception": false,
     "start_time": "2022-04-26T23:54:54.655701",
     "status": "completed"
    },
    "tags": []
   },
   "outputs": [
    {
     "name": "stderr",
     "output_type": "stream",
     "text": [
      "/opt/conda/lib/python3.7/site-packages/xgboost/sklearn.py:1224: UserWarning: The use of label encoder in XGBClassifier is deprecated and will be removed in a future release. To remove this warning, do the following: 1) Pass option use_label_encoder=False when constructing XGBClassifier object; and 2) Encode your labels (y) as integers starting with 0, i.e. 0, 1, 2, ..., [num_class - 1].\n",
      "  warnings.warn(label_encoder_deprecation_msg, UserWarning)\n"
     ]
    },
    {
     "name": "stdout",
     "output_type": "stream",
     "text": [
      "[23:54:54] WARNING: ../src/learner.cc:1115: Starting in XGBoost 1.3.0, the default evaluation metric used with the objective 'binary:logistic' was changed from 'error' to 'logloss'. Explicitly set eval_metric if you'd like to restore the old behavior.\n"
     ]
    },
    {
     "data": {
      "text/plain": [
       "XGBClassifier(base_score=0.5, booster='gbtree', colsample_bylevel=1,\n",
       "              colsample_bynode=1, colsample_bytree=0.5,\n",
       "              enable_categorical=False, gamma=0, gpu_id=-1,\n",
       "              importance_type=None, interaction_constraints='',\n",
       "              learning_rate=0.023, max_delta_step=0, max_depth=6,\n",
       "              min_child_weight=1, missing=nan, monotone_constraints='()',\n",
       "              n_estimators=700, n_jobs=4, num_parallel_tree=1, predictor='auto',\n",
       "              random_state=42, reg_alpha=0, reg_lambda=1, scale_pos_weight=1,\n",
       "              subsample=0.5, tree_method='exact', validate_parameters=1,\n",
       "              verbosity=None)"
      ]
     },
     "execution_count": 38,
     "metadata": {},
     "output_type": "execute_result"
    }
   ],
   "source": [
    "#defining SECOND MODEL\n",
    "model2=XGBClassifier(colsample_bytree=0.5, learning_rate=0.023, n_estimators=700, random_state=42, subsample=0.5)\n",
    "#fitting the model\n",
    "model2.fit(X_train, y_train)"
   ]
  },
  {
   "cell_type": "code",
   "execution_count": 39,
   "id": "705f8df0",
   "metadata": {
    "execution": {
     "iopub.execute_input": "2022-04-26T23:54:59.690189Z",
     "iopub.status.busy": "2022-04-26T23:54:59.689583Z",
     "iopub.status.idle": "2022-04-26T23:54:59.709928Z",
     "shell.execute_reply": "2022-04-26T23:54:59.709245Z"
    },
    "papermill": {
     "duration": 0.109598,
     "end_time": "2022-04-26T23:54:59.712209",
     "exception": false,
     "start_time": "2022-04-26T23:54:59.602611",
     "status": "completed"
    },
    "tags": []
   },
   "outputs": [],
   "source": [
    "#Testing predictions on Valid data\n",
    "preds2=model2.predict(X_valid)"
   ]
  },
  {
   "cell_type": "code",
   "execution_count": 40,
   "id": "86469a68",
   "metadata": {
    "execution": {
     "iopub.execute_input": "2022-04-26T23:54:59.886938Z",
     "iopub.status.busy": "2022-04-26T23:54:59.886642Z",
     "iopub.status.idle": "2022-04-26T23:54:59.902729Z",
     "shell.execute_reply": "2022-04-26T23:54:59.901909Z"
    },
    "papermill": {
     "duration": 0.106286,
     "end_time": "2022-04-26T23:54:59.905628",
     "exception": false,
     "start_time": "2022-04-26T23:54:59.799342",
     "status": "completed"
    },
    "tags": []
   },
   "outputs": [
    {
     "name": "stdout",
     "output_type": "stream",
     "text": [
      "Confusion-Matrix for XGBClassifier: \n",
      "[[650 199]\n",
      " [213 677]]\n",
      "Accuracy for XGBClassifier:  0.7630822311673375\n",
      "Precision for XGBClassifier:  0.7728310502283106\n",
      "Sensitivity for XGBClassifier:  0.7606741573033707\n",
      "F-Score for XGBClassifier:  0.766704416761042\n"
     ]
    }
   ],
   "source": [
    "#Scoring the model\n",
    "print('Confusion-Matrix for XGBClassifier: ')\n",
    "print(confusion_matrix(preds2,y_valid))\n",
    "print(\"Accuracy for XGBClassifier: \",accuracy_score(preds2,y_valid))\n",
    "print(\"Precision for XGBClassifier: \",precision_score(preds2,y_valid))\n",
    "print(\"Sensitivity for XGBClassifier: \", recall_score(preds2,y_valid))\n",
    "print(\"F-Score for XGBClassifier: \", f1_score(preds2,y_valid))"
   ]
  },
  {
   "cell_type": "markdown",
   "id": "4d81b06d",
   "metadata": {
    "papermill": {
     "duration": 0.089329,
     "end_time": "2022-04-26T23:55:00.085874",
     "exception": false,
     "start_time": "2022-04-26T23:54:59.996545",
     "status": "completed"
    },
    "tags": []
   },
   "source": [
    "### **I am going to use the XGBClassifier for my predictions considering that the scoring of that model was superior**"
   ]
  },
  {
   "cell_type": "code",
   "execution_count": 41,
   "id": "ae57b840",
   "metadata": {
    "execution": {
     "iopub.execute_input": "2022-04-26T23:55:00.259677Z",
     "iopub.status.busy": "2022-04-26T23:55:00.259308Z",
     "iopub.status.idle": "2022-04-26T23:55:00.279172Z",
     "shell.execute_reply": "2022-04-26T23:55:00.278324Z"
    },
    "papermill": {
     "duration": 0.109268,
     "end_time": "2022-04-26T23:55:00.281401",
     "exception": false,
     "start_time": "2022-04-26T23:55:00.172133",
     "status": "completed"
    },
    "tags": []
   },
   "outputs": [],
   "source": [
    "#preprocessing X_test data\n",
    "X_test = pipeline.transform(X_test)"
   ]
  },
  {
   "cell_type": "code",
   "execution_count": 42,
   "id": "3d6754b7",
   "metadata": {
    "execution": {
     "iopub.execute_input": "2022-04-26T23:55:00.456443Z",
     "iopub.status.busy": "2022-04-26T23:55:00.455888Z",
     "iopub.status.idle": "2022-04-26T23:55:00.498653Z",
     "shell.execute_reply": "2022-04-26T23:55:00.497889Z"
    },
    "papermill": {
     "duration": 0.132739,
     "end_time": "2022-04-26T23:55:00.501155",
     "exception": false,
     "start_time": "2022-04-26T23:55:00.368416",
     "status": "completed"
    },
    "tags": []
   },
   "outputs": [],
   "source": [
    "#predictions\n",
    "predictions=model2.predict(X_test)\n"
   ]
  },
  {
   "cell_type": "code",
   "execution_count": 43,
   "id": "b2cfbd1d",
   "metadata": {
    "execution": {
     "iopub.execute_input": "2022-04-26T23:55:00.676492Z",
     "iopub.status.busy": "2022-04-26T23:55:00.676112Z",
     "iopub.status.idle": "2022-04-26T23:55:00.691065Z",
     "shell.execute_reply": "2022-04-26T23:55:00.690464Z"
    },
    "papermill": {
     "duration": 0.10458,
     "end_time": "2022-04-26T23:55:00.694118",
     "exception": false,
     "start_time": "2022-04-26T23:55:00.589538",
     "status": "completed"
    },
    "tags": []
   },
   "outputs": [
    {
     "name": "stdout",
     "output_type": "stream",
     "text": [
      "this is my first submission of \"Spaceship Titanic\"\n"
     ]
    },
    {
     "data": {
      "text/html": [
       "<div>\n",
       "<style scoped>\n",
       "    .dataframe tbody tr th:only-of-type {\n",
       "        vertical-align: middle;\n",
       "    }\n",
       "\n",
       "    .dataframe tbody tr th {\n",
       "        vertical-align: top;\n",
       "    }\n",
       "\n",
       "    .dataframe thead th {\n",
       "        text-align: right;\n",
       "    }\n",
       "</style>\n",
       "<table border=\"1\" class=\"dataframe\">\n",
       "  <thead>\n",
       "    <tr style=\"text-align: right;\">\n",
       "      <th></th>\n",
       "      <th>PassengerId</th>\n",
       "      <th>Transported</th>\n",
       "    </tr>\n",
       "  </thead>\n",
       "  <tbody>\n",
       "    <tr>\n",
       "      <th>0</th>\n",
       "      <td>0013_01</td>\n",
       "      <td>True</td>\n",
       "    </tr>\n",
       "    <tr>\n",
       "      <th>1</th>\n",
       "      <td>0018_01</td>\n",
       "      <td>False</td>\n",
       "    </tr>\n",
       "    <tr>\n",
       "      <th>2</th>\n",
       "      <td>0019_01</td>\n",
       "      <td>True</td>\n",
       "    </tr>\n",
       "    <tr>\n",
       "      <th>3</th>\n",
       "      <td>0021_01</td>\n",
       "      <td>False</td>\n",
       "    </tr>\n",
       "    <tr>\n",
       "      <th>4</th>\n",
       "      <td>0023_01</td>\n",
       "      <td>True</td>\n",
       "    </tr>\n",
       "    <tr>\n",
       "      <th>...</th>\n",
       "      <td>...</td>\n",
       "      <td>...</td>\n",
       "    </tr>\n",
       "    <tr>\n",
       "      <th>4272</th>\n",
       "      <td>9266_02</td>\n",
       "      <td>True</td>\n",
       "    </tr>\n",
       "    <tr>\n",
       "      <th>4273</th>\n",
       "      <td>9269_01</td>\n",
       "      <td>False</td>\n",
       "    </tr>\n",
       "    <tr>\n",
       "      <th>4274</th>\n",
       "      <td>9271_01</td>\n",
       "      <td>True</td>\n",
       "    </tr>\n",
       "    <tr>\n",
       "      <th>4275</th>\n",
       "      <td>9273_01</td>\n",
       "      <td>False</td>\n",
       "    </tr>\n",
       "    <tr>\n",
       "      <th>4276</th>\n",
       "      <td>9277_01</td>\n",
       "      <td>True</td>\n",
       "    </tr>\n",
       "  </tbody>\n",
       "</table>\n",
       "<p>4277 rows × 2 columns</p>\n",
       "</div>"
      ],
      "text/plain": [
       "     PassengerId  Transported\n",
       "0        0013_01         True\n",
       "1        0018_01        False\n",
       "2        0019_01         True\n",
       "3        0021_01        False\n",
       "4        0023_01         True\n",
       "...          ...          ...\n",
       "4272     9266_02         True\n",
       "4273     9269_01        False\n",
       "4274     9271_01         True\n",
       "4275     9273_01        False\n",
       "4276     9277_01         True\n",
       "\n",
       "[4277 rows x 2 columns]"
      ]
     },
     "execution_count": 43,
     "metadata": {},
     "output_type": "execute_result"
    }
   ],
   "source": [
    "out=pd.DataFrame({'PassengerId': Xtest.index, 'Transported':predictions})\n",
    "print('this is my first submission of \"Spaceship Titanic\"')\n",
    "out"
   ]
  },
  {
   "cell_type": "code",
   "execution_count": 44,
   "id": "e0102539",
   "metadata": {
    "execution": {
     "iopub.execute_input": "2022-04-26T23:55:00.872739Z",
     "iopub.status.busy": "2022-04-26T23:55:00.872247Z",
     "iopub.status.idle": "2022-04-26T23:55:00.889459Z",
     "shell.execute_reply": "2022-04-26T23:55:00.888298Z"
    },
    "papermill": {
     "duration": 0.110122,
     "end_time": "2022-04-26T23:55:00.891815",
     "exception": false,
     "start_time": "2022-04-26T23:55:00.781693",
     "status": "completed"
    },
    "tags": []
   },
   "outputs": [],
   "source": [
    "out.to_csv('submission.csv', index=False)"
   ]
  }
 ],
 "metadata": {
  "kernelspec": {
   "display_name": "Python 3",
   "language": "python",
   "name": "python3"
  },
  "language_info": {
   "codemirror_mode": {
    "name": "ipython",
    "version": 3
   },
   "file_extension": ".py",
   "mimetype": "text/x-python",
   "name": "python",
   "nbconvert_exporter": "python",
   "pygments_lexer": "ipython3",
   "version": "3.7.12"
  },
  "papermill": {
   "default_parameters": {},
   "duration": 148.14599,
   "end_time": "2022-04-26T23:55:03.600158",
   "environment_variables": {},
   "exception": null,
   "input_path": "__notebook__.ipynb",
   "output_path": "__notebook__.ipynb",
   "parameters": {},
   "start_time": "2022-04-26T23:52:35.454168",
   "version": "2.3.4"
  }
 },
 "nbformat": 4,
 "nbformat_minor": 5
}
