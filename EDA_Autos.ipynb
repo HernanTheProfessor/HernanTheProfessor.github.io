{
  "nbformat": 4,
  "nbformat_minor": 0,
  "metadata": {
    "colab": {
      "name": "EDA_Autos.ipynb",
      "provenance": [],
      "collapsed_sections": []
    },
    "kernelspec": {
      "name": "python3",
      "display_name": "Python 3"
    },
    "language_info": {
      "name": "python"
    }
  },
  "cells": [
    {
      "cell_type": "markdown",
      "source": [
        "**1. Cargar librerías**"
      ],
      "metadata": {
        "id": "BZxytXnrsKzC"
      }
    },
    {
      "cell_type": "code",
      "execution_count": null,
      "metadata": {
        "id": "q2yPfvk7mdWF"
      },
      "outputs": [],
      "source": [
        "#IMPORTANDO LA BIBLIOTECAS NECESARIAS\n",
        "import pandas as pd\n",
        "import numpy as np\n",
        "import seaborn as sns\n",
        "import matplotlib.pyplot as plt"
      ]
    },
    {
      "cell_type": "code",
      "source": [
        "# Función auxiliar para colores de texto(su uso es opcional en cadenas de texto)\n",
        "class clr:\n",
        "    S = '\\033[1m' + '\\033[90m'\n",
        "    E = '\\033[0m'"
      ],
      "metadata": {
        "id": "zjlKUgTufKv4"
      },
      "execution_count": null,
      "outputs": []
    },
    {
      "cell_type": "markdown",
      "source": [
        "**2. Cargar datos**"
      ],
      "metadata": {
        "id": "3NRlhNU7sYls"
      }
    },
    {
      "cell_type": "code",
      "source": [
        "#Cargando la data desde el disco duro del computador\n",
        "from google.colab import files\n",
        "files.upload()"
      ],
      "metadata": {
        "id": "0rvZ6Oljr48J"
      },
      "execution_count": null,
      "outputs": []
    },
    {
      "cell_type": "code",
      "source": [
        "#convirtiendo la data de formato csv a un DataFrame manejable con Pandas\n",
        "data= pd.read_csv('data.csv', sep=',', decimal='.')\n",
        "##Tamaño de la data\n",
        "print(clr.S+\"El tamaño de la data es:\"+clr.E, data.shape)\n",
        "print()\n",
        "##Configurando un vistazo de la data (primeros registros)\n",
        "data.head()"
      ],
      "metadata": {
        "colab": {
          "base_uri": "https://localhost:8080/",
          "height": 515
        },
        "id": "GkKNaYhvs5qR",
        "outputId": "a72f9cdc-084b-48fb-abc5-f67743d49367"
      },
      "execution_count": null,
      "outputs": [
        {
          "output_type": "stream",
          "name": "stdout",
          "text": [
            "\u001b[1m\u001b[90mEl tamaño de la data es:\u001b[0m (11914, 16)\n",
            "\n"
          ]
        },
        {
          "output_type": "execute_result",
          "data": {
            "text/plain": [
              "  Make       Model  Year             Engine Fuel Type  Engine HP  \\\n",
              "0  BMW  1 Series M  2011  premium unleaded (required)      335.0   \n",
              "1  BMW    1 Series  2011  premium unleaded (required)      300.0   \n",
              "2  BMW    1 Series  2011  premium unleaded (required)      300.0   \n",
              "3  BMW    1 Series  2011  premium unleaded (required)      230.0   \n",
              "4  BMW    1 Series  2011  premium unleaded (required)      230.0   \n",
              "\n",
              "   Engine Cylinders Transmission Type     Driven_Wheels  Number of Doors  \\\n",
              "0               6.0            MANUAL  rear wheel drive              2.0   \n",
              "1               6.0            MANUAL  rear wheel drive              2.0   \n",
              "2               6.0            MANUAL  rear wheel drive              2.0   \n",
              "3               6.0            MANUAL  rear wheel drive              2.0   \n",
              "4               6.0            MANUAL  rear wheel drive              2.0   \n",
              "\n",
              "                         Market Category Vehicle Size Vehicle Style  \\\n",
              "0  Factory Tuner,Luxury,High-Performance      Compact         Coupe   \n",
              "1                     Luxury,Performance      Compact   Convertible   \n",
              "2                Luxury,High-Performance      Compact         Coupe   \n",
              "3                     Luxury,Performance      Compact         Coupe   \n",
              "4                                 Luxury      Compact   Convertible   \n",
              "\n",
              "   highway MPG  city mpg  Popularity   MSRP  \n",
              "0           26        19        3916  46135  \n",
              "1           28        19        3916  40650  \n",
              "2           28        20        3916  36350  \n",
              "3           28        18        3916  29450  \n",
              "4           28        18        3916  34500  "
            ],
            "text/html": [
              "\n",
              "  <div id=\"df-33a07203-f8be-4a7d-b632-4e338b6cba40\">\n",
              "    <div class=\"colab-df-container\">\n",
              "      <div>\n",
              "<style scoped>\n",
              "    .dataframe tbody tr th:only-of-type {\n",
              "        vertical-align: middle;\n",
              "    }\n",
              "\n",
              "    .dataframe tbody tr th {\n",
              "        vertical-align: top;\n",
              "    }\n",
              "\n",
              "    .dataframe thead th {\n",
              "        text-align: right;\n",
              "    }\n",
              "</style>\n",
              "<table border=\"1\" class=\"dataframe\">\n",
              "  <thead>\n",
              "    <tr style=\"text-align: right;\">\n",
              "      <th></th>\n",
              "      <th>Make</th>\n",
              "      <th>Model</th>\n",
              "      <th>Year</th>\n",
              "      <th>Engine Fuel Type</th>\n",
              "      <th>Engine HP</th>\n",
              "      <th>Engine Cylinders</th>\n",
              "      <th>Transmission Type</th>\n",
              "      <th>Driven_Wheels</th>\n",
              "      <th>Number of Doors</th>\n",
              "      <th>Market Category</th>\n",
              "      <th>Vehicle Size</th>\n",
              "      <th>Vehicle Style</th>\n",
              "      <th>highway MPG</th>\n",
              "      <th>city mpg</th>\n",
              "      <th>Popularity</th>\n",
              "      <th>MSRP</th>\n",
              "    </tr>\n",
              "  </thead>\n",
              "  <tbody>\n",
              "    <tr>\n",
              "      <th>0</th>\n",
              "      <td>BMW</td>\n",
              "      <td>1 Series M</td>\n",
              "      <td>2011</td>\n",
              "      <td>premium unleaded (required)</td>\n",
              "      <td>335.0</td>\n",
              "      <td>6.0</td>\n",
              "      <td>MANUAL</td>\n",
              "      <td>rear wheel drive</td>\n",
              "      <td>2.0</td>\n",
              "      <td>Factory Tuner,Luxury,High-Performance</td>\n",
              "      <td>Compact</td>\n",
              "      <td>Coupe</td>\n",
              "      <td>26</td>\n",
              "      <td>19</td>\n",
              "      <td>3916</td>\n",
              "      <td>46135</td>\n",
              "    </tr>\n",
              "    <tr>\n",
              "      <th>1</th>\n",
              "      <td>BMW</td>\n",
              "      <td>1 Series</td>\n",
              "      <td>2011</td>\n",
              "      <td>premium unleaded (required)</td>\n",
              "      <td>300.0</td>\n",
              "      <td>6.0</td>\n",
              "      <td>MANUAL</td>\n",
              "      <td>rear wheel drive</td>\n",
              "      <td>2.0</td>\n",
              "      <td>Luxury,Performance</td>\n",
              "      <td>Compact</td>\n",
              "      <td>Convertible</td>\n",
              "      <td>28</td>\n",
              "      <td>19</td>\n",
              "      <td>3916</td>\n",
              "      <td>40650</td>\n",
              "    </tr>\n",
              "    <tr>\n",
              "      <th>2</th>\n",
              "      <td>BMW</td>\n",
              "      <td>1 Series</td>\n",
              "      <td>2011</td>\n",
              "      <td>premium unleaded (required)</td>\n",
              "      <td>300.0</td>\n",
              "      <td>6.0</td>\n",
              "      <td>MANUAL</td>\n",
              "      <td>rear wheel drive</td>\n",
              "      <td>2.0</td>\n",
              "      <td>Luxury,High-Performance</td>\n",
              "      <td>Compact</td>\n",
              "      <td>Coupe</td>\n",
              "      <td>28</td>\n",
              "      <td>20</td>\n",
              "      <td>3916</td>\n",
              "      <td>36350</td>\n",
              "    </tr>\n",
              "    <tr>\n",
              "      <th>3</th>\n",
              "      <td>BMW</td>\n",
              "      <td>1 Series</td>\n",
              "      <td>2011</td>\n",
              "      <td>premium unleaded (required)</td>\n",
              "      <td>230.0</td>\n",
              "      <td>6.0</td>\n",
              "      <td>MANUAL</td>\n",
              "      <td>rear wheel drive</td>\n",
              "      <td>2.0</td>\n",
              "      <td>Luxury,Performance</td>\n",
              "      <td>Compact</td>\n",
              "      <td>Coupe</td>\n",
              "      <td>28</td>\n",
              "      <td>18</td>\n",
              "      <td>3916</td>\n",
              "      <td>29450</td>\n",
              "    </tr>\n",
              "    <tr>\n",
              "      <th>4</th>\n",
              "      <td>BMW</td>\n",
              "      <td>1 Series</td>\n",
              "      <td>2011</td>\n",
              "      <td>premium unleaded (required)</td>\n",
              "      <td>230.0</td>\n",
              "      <td>6.0</td>\n",
              "      <td>MANUAL</td>\n",
              "      <td>rear wheel drive</td>\n",
              "      <td>2.0</td>\n",
              "      <td>Luxury</td>\n",
              "      <td>Compact</td>\n",
              "      <td>Convertible</td>\n",
              "      <td>28</td>\n",
              "      <td>18</td>\n",
              "      <td>3916</td>\n",
              "      <td>34500</td>\n",
              "    </tr>\n",
              "  </tbody>\n",
              "</table>\n",
              "</div>\n",
              "      <button class=\"colab-df-convert\" onclick=\"convertToInteractive('df-33a07203-f8be-4a7d-b632-4e338b6cba40')\"\n",
              "              title=\"Convert this dataframe to an interactive table.\"\n",
              "              style=\"display:none;\">\n",
              "        \n",
              "  <svg xmlns=\"http://www.w3.org/2000/svg\" height=\"24px\"viewBox=\"0 0 24 24\"\n",
              "       width=\"24px\">\n",
              "    <path d=\"M0 0h24v24H0V0z\" fill=\"none\"/>\n",
              "    <path d=\"M18.56 5.44l.94 2.06.94-2.06 2.06-.94-2.06-.94-.94-2.06-.94 2.06-2.06.94zm-11 1L8.5 8.5l.94-2.06 2.06-.94-2.06-.94L8.5 2.5l-.94 2.06-2.06.94zm10 10l.94 2.06.94-2.06 2.06-.94-2.06-.94-.94-2.06-.94 2.06-2.06.94z\"/><path d=\"M17.41 7.96l-1.37-1.37c-.4-.4-.92-.59-1.43-.59-.52 0-1.04.2-1.43.59L10.3 9.45l-7.72 7.72c-.78.78-.78 2.05 0 2.83L4 21.41c.39.39.9.59 1.41.59.51 0 1.02-.2 1.41-.59l7.78-7.78 2.81-2.81c.8-.78.8-2.07 0-2.86zM5.41 20L4 18.59l7.72-7.72 1.47 1.35L5.41 20z\"/>\n",
              "  </svg>\n",
              "      </button>\n",
              "      \n",
              "  <style>\n",
              "    .colab-df-container {\n",
              "      display:flex;\n",
              "      flex-wrap:wrap;\n",
              "      gap: 12px;\n",
              "    }\n",
              "\n",
              "    .colab-df-convert {\n",
              "      background-color: #E8F0FE;\n",
              "      border: none;\n",
              "      border-radius: 50%;\n",
              "      cursor: pointer;\n",
              "      display: none;\n",
              "      fill: #1967D2;\n",
              "      height: 32px;\n",
              "      padding: 0 0 0 0;\n",
              "      width: 32px;\n",
              "    }\n",
              "\n",
              "    .colab-df-convert:hover {\n",
              "      background-color: #E2EBFA;\n",
              "      box-shadow: 0px 1px 2px rgba(60, 64, 67, 0.3), 0px 1px 3px 1px rgba(60, 64, 67, 0.15);\n",
              "      fill: #174EA6;\n",
              "    }\n",
              "\n",
              "    [theme=dark] .colab-df-convert {\n",
              "      background-color: #3B4455;\n",
              "      fill: #D2E3FC;\n",
              "    }\n",
              "\n",
              "    [theme=dark] .colab-df-convert:hover {\n",
              "      background-color: #434B5C;\n",
              "      box-shadow: 0px 1px 3px 1px rgba(0, 0, 0, 0.15);\n",
              "      filter: drop-shadow(0px 1px 2px rgba(0, 0, 0, 0.3));\n",
              "      fill: #FFFFFF;\n",
              "    }\n",
              "  </style>\n",
              "\n",
              "      <script>\n",
              "        const buttonEl =\n",
              "          document.querySelector('#df-33a07203-f8be-4a7d-b632-4e338b6cba40 button.colab-df-convert');\n",
              "        buttonEl.style.display =\n",
              "          google.colab.kernel.accessAllowed ? 'block' : 'none';\n",
              "\n",
              "        async function convertToInteractive(key) {\n",
              "          const element = document.querySelector('#df-33a07203-f8be-4a7d-b632-4e338b6cba40');\n",
              "          const dataTable =\n",
              "            await google.colab.kernel.invokeFunction('convertToInteractive',\n",
              "                                                     [key], {});\n",
              "          if (!dataTable) return;\n",
              "\n",
              "          const docLinkHtml = 'Like what you see? Visit the ' +\n",
              "            '<a target=\"_blank\" href=https://colab.research.google.com/notebooks/data_table.ipynb>data table notebook</a>'\n",
              "            + ' to learn more about interactive tables.';\n",
              "          element.innerHTML = '';\n",
              "          dataTable['output_type'] = 'display_data';\n",
              "          await google.colab.output.renderOutput(dataTable, element);\n",
              "          const docLink = document.createElement('div');\n",
              "          docLink.innerHTML = docLinkHtml;\n",
              "          element.appendChild(docLink);\n",
              "        }\n",
              "      </script>\n",
              "    </div>\n",
              "  </div>\n",
              "  "
            ]
          },
          "metadata": {},
          "execution_count": 51
        }
      ]
    },
    {
      "cell_type": "code",
      "source": [
        "#otro vistazo de la data(últimos registros)\n",
        "data.tail()"
      ],
      "metadata": {
        "colab": {
          "base_uri": "https://localhost:8080/",
          "height": 461
        },
        "id": "WiYB45jTtUSc",
        "outputId": "55b516e9-7fa9-4f0b-8197-d33afa4c95be"
      },
      "execution_count": null,
      "outputs": [
        {
          "output_type": "execute_result",
          "data": {
            "text/plain": [
              "          Make   Model  Year                Engine Fuel Type  Engine HP  \\\n",
              "11909    Acura     ZDX  2012     premium unleaded (required)      300.0   \n",
              "11910    Acura     ZDX  2012     premium unleaded (required)      300.0   \n",
              "11911    Acura     ZDX  2012     premium unleaded (required)      300.0   \n",
              "11912    Acura     ZDX  2013  premium unleaded (recommended)      300.0   \n",
              "11913  Lincoln  Zephyr  2006                regular unleaded      221.0   \n",
              "\n",
              "       Engine Cylinders Transmission Type      Driven_Wheels  Number of Doors  \\\n",
              "11909               6.0         AUTOMATIC    all wheel drive              4.0   \n",
              "11910               6.0         AUTOMATIC    all wheel drive              4.0   \n",
              "11911               6.0         AUTOMATIC    all wheel drive              4.0   \n",
              "11912               6.0         AUTOMATIC    all wheel drive              4.0   \n",
              "11913               6.0         AUTOMATIC  front wheel drive              4.0   \n",
              "\n",
              "                  Market Category Vehicle Size  Vehicle Style  highway MPG  \\\n",
              "11909  Crossover,Hatchback,Luxury      Midsize  4dr Hatchback           23   \n",
              "11910  Crossover,Hatchback,Luxury      Midsize  4dr Hatchback           23   \n",
              "11911  Crossover,Hatchback,Luxury      Midsize  4dr Hatchback           23   \n",
              "11912  Crossover,Hatchback,Luxury      Midsize  4dr Hatchback           23   \n",
              "11913                      Luxury      Midsize          Sedan           26   \n",
              "\n",
              "       city mpg  Popularity   MSRP  \n",
              "11909        16         204  46120  \n",
              "11910        16         204  56670  \n",
              "11911        16         204  50620  \n",
              "11912        16         204  50920  \n",
              "11913        17          61  28995  "
            ],
            "text/html": [
              "\n",
              "  <div id=\"df-1ce17f16-8333-4fce-ad1d-29a2cf51d388\">\n",
              "    <div class=\"colab-df-container\">\n",
              "      <div>\n",
              "<style scoped>\n",
              "    .dataframe tbody tr th:only-of-type {\n",
              "        vertical-align: middle;\n",
              "    }\n",
              "\n",
              "    .dataframe tbody tr th {\n",
              "        vertical-align: top;\n",
              "    }\n",
              "\n",
              "    .dataframe thead th {\n",
              "        text-align: right;\n",
              "    }\n",
              "</style>\n",
              "<table border=\"1\" class=\"dataframe\">\n",
              "  <thead>\n",
              "    <tr style=\"text-align: right;\">\n",
              "      <th></th>\n",
              "      <th>Make</th>\n",
              "      <th>Model</th>\n",
              "      <th>Year</th>\n",
              "      <th>Engine Fuel Type</th>\n",
              "      <th>Engine HP</th>\n",
              "      <th>Engine Cylinders</th>\n",
              "      <th>Transmission Type</th>\n",
              "      <th>Driven_Wheels</th>\n",
              "      <th>Number of Doors</th>\n",
              "      <th>Market Category</th>\n",
              "      <th>Vehicle Size</th>\n",
              "      <th>Vehicle Style</th>\n",
              "      <th>highway MPG</th>\n",
              "      <th>city mpg</th>\n",
              "      <th>Popularity</th>\n",
              "      <th>MSRP</th>\n",
              "    </tr>\n",
              "  </thead>\n",
              "  <tbody>\n",
              "    <tr>\n",
              "      <th>11909</th>\n",
              "      <td>Acura</td>\n",
              "      <td>ZDX</td>\n",
              "      <td>2012</td>\n",
              "      <td>premium unleaded (required)</td>\n",
              "      <td>300.0</td>\n",
              "      <td>6.0</td>\n",
              "      <td>AUTOMATIC</td>\n",
              "      <td>all wheel drive</td>\n",
              "      <td>4.0</td>\n",
              "      <td>Crossover,Hatchback,Luxury</td>\n",
              "      <td>Midsize</td>\n",
              "      <td>4dr Hatchback</td>\n",
              "      <td>23</td>\n",
              "      <td>16</td>\n",
              "      <td>204</td>\n",
              "      <td>46120</td>\n",
              "    </tr>\n",
              "    <tr>\n",
              "      <th>11910</th>\n",
              "      <td>Acura</td>\n",
              "      <td>ZDX</td>\n",
              "      <td>2012</td>\n",
              "      <td>premium unleaded (required)</td>\n",
              "      <td>300.0</td>\n",
              "      <td>6.0</td>\n",
              "      <td>AUTOMATIC</td>\n",
              "      <td>all wheel drive</td>\n",
              "      <td>4.0</td>\n",
              "      <td>Crossover,Hatchback,Luxury</td>\n",
              "      <td>Midsize</td>\n",
              "      <td>4dr Hatchback</td>\n",
              "      <td>23</td>\n",
              "      <td>16</td>\n",
              "      <td>204</td>\n",
              "      <td>56670</td>\n",
              "    </tr>\n",
              "    <tr>\n",
              "      <th>11911</th>\n",
              "      <td>Acura</td>\n",
              "      <td>ZDX</td>\n",
              "      <td>2012</td>\n",
              "      <td>premium unleaded (required)</td>\n",
              "      <td>300.0</td>\n",
              "      <td>6.0</td>\n",
              "      <td>AUTOMATIC</td>\n",
              "      <td>all wheel drive</td>\n",
              "      <td>4.0</td>\n",
              "      <td>Crossover,Hatchback,Luxury</td>\n",
              "      <td>Midsize</td>\n",
              "      <td>4dr Hatchback</td>\n",
              "      <td>23</td>\n",
              "      <td>16</td>\n",
              "      <td>204</td>\n",
              "      <td>50620</td>\n",
              "    </tr>\n",
              "    <tr>\n",
              "      <th>11912</th>\n",
              "      <td>Acura</td>\n",
              "      <td>ZDX</td>\n",
              "      <td>2013</td>\n",
              "      <td>premium unleaded (recommended)</td>\n",
              "      <td>300.0</td>\n",
              "      <td>6.0</td>\n",
              "      <td>AUTOMATIC</td>\n",
              "      <td>all wheel drive</td>\n",
              "      <td>4.0</td>\n",
              "      <td>Crossover,Hatchback,Luxury</td>\n",
              "      <td>Midsize</td>\n",
              "      <td>4dr Hatchback</td>\n",
              "      <td>23</td>\n",
              "      <td>16</td>\n",
              "      <td>204</td>\n",
              "      <td>50920</td>\n",
              "    </tr>\n",
              "    <tr>\n",
              "      <th>11913</th>\n",
              "      <td>Lincoln</td>\n",
              "      <td>Zephyr</td>\n",
              "      <td>2006</td>\n",
              "      <td>regular unleaded</td>\n",
              "      <td>221.0</td>\n",
              "      <td>6.0</td>\n",
              "      <td>AUTOMATIC</td>\n",
              "      <td>front wheel drive</td>\n",
              "      <td>4.0</td>\n",
              "      <td>Luxury</td>\n",
              "      <td>Midsize</td>\n",
              "      <td>Sedan</td>\n",
              "      <td>26</td>\n",
              "      <td>17</td>\n",
              "      <td>61</td>\n",
              "      <td>28995</td>\n",
              "    </tr>\n",
              "  </tbody>\n",
              "</table>\n",
              "</div>\n",
              "      <button class=\"colab-df-convert\" onclick=\"convertToInteractive('df-1ce17f16-8333-4fce-ad1d-29a2cf51d388')\"\n",
              "              title=\"Convert this dataframe to an interactive table.\"\n",
              "              style=\"display:none;\">\n",
              "        \n",
              "  <svg xmlns=\"http://www.w3.org/2000/svg\" height=\"24px\"viewBox=\"0 0 24 24\"\n",
              "       width=\"24px\">\n",
              "    <path d=\"M0 0h24v24H0V0z\" fill=\"none\"/>\n",
              "    <path d=\"M18.56 5.44l.94 2.06.94-2.06 2.06-.94-2.06-.94-.94-2.06-.94 2.06-2.06.94zm-11 1L8.5 8.5l.94-2.06 2.06-.94-2.06-.94L8.5 2.5l-.94 2.06-2.06.94zm10 10l.94 2.06.94-2.06 2.06-.94-2.06-.94-.94-2.06-.94 2.06-2.06.94z\"/><path d=\"M17.41 7.96l-1.37-1.37c-.4-.4-.92-.59-1.43-.59-.52 0-1.04.2-1.43.59L10.3 9.45l-7.72 7.72c-.78.78-.78 2.05 0 2.83L4 21.41c.39.39.9.59 1.41.59.51 0 1.02-.2 1.41-.59l7.78-7.78 2.81-2.81c.8-.78.8-2.07 0-2.86zM5.41 20L4 18.59l7.72-7.72 1.47 1.35L5.41 20z\"/>\n",
              "  </svg>\n",
              "      </button>\n",
              "      \n",
              "  <style>\n",
              "    .colab-df-container {\n",
              "      display:flex;\n",
              "      flex-wrap:wrap;\n",
              "      gap: 12px;\n",
              "    }\n",
              "\n",
              "    .colab-df-convert {\n",
              "      background-color: #E8F0FE;\n",
              "      border: none;\n",
              "      border-radius: 50%;\n",
              "      cursor: pointer;\n",
              "      display: none;\n",
              "      fill: #1967D2;\n",
              "      height: 32px;\n",
              "      padding: 0 0 0 0;\n",
              "      width: 32px;\n",
              "    }\n",
              "\n",
              "    .colab-df-convert:hover {\n",
              "      background-color: #E2EBFA;\n",
              "      box-shadow: 0px 1px 2px rgba(60, 64, 67, 0.3), 0px 1px 3px 1px rgba(60, 64, 67, 0.15);\n",
              "      fill: #174EA6;\n",
              "    }\n",
              "\n",
              "    [theme=dark] .colab-df-convert {\n",
              "      background-color: #3B4455;\n",
              "      fill: #D2E3FC;\n",
              "    }\n",
              "\n",
              "    [theme=dark] .colab-df-convert:hover {\n",
              "      background-color: #434B5C;\n",
              "      box-shadow: 0px 1px 3px 1px rgba(0, 0, 0, 0.15);\n",
              "      filter: drop-shadow(0px 1px 2px rgba(0, 0, 0, 0.3));\n",
              "      fill: #FFFFFF;\n",
              "    }\n",
              "  </style>\n",
              "\n",
              "      <script>\n",
              "        const buttonEl =\n",
              "          document.querySelector('#df-1ce17f16-8333-4fce-ad1d-29a2cf51d388 button.colab-df-convert');\n",
              "        buttonEl.style.display =\n",
              "          google.colab.kernel.accessAllowed ? 'block' : 'none';\n",
              "\n",
              "        async function convertToInteractive(key) {\n",
              "          const element = document.querySelector('#df-1ce17f16-8333-4fce-ad1d-29a2cf51d388');\n",
              "          const dataTable =\n",
              "            await google.colab.kernel.invokeFunction('convertToInteractive',\n",
              "                                                     [key], {});\n",
              "          if (!dataTable) return;\n",
              "\n",
              "          const docLinkHtml = 'Like what you see? Visit the ' +\n",
              "            '<a target=\"_blank\" href=https://colab.research.google.com/notebooks/data_table.ipynb>data table notebook</a>'\n",
              "            + ' to learn more about interactive tables.';\n",
              "          element.innerHTML = '';\n",
              "          dataTable['output_type'] = 'display_data';\n",
              "          await google.colab.output.renderOutput(dataTable, element);\n",
              "          const docLink = document.createElement('div');\n",
              "          docLink.innerHTML = docLinkHtml;\n",
              "          element.appendChild(docLink);\n",
              "        }\n",
              "      </script>\n",
              "    </div>\n",
              "  </div>\n",
              "  "
            ]
          },
          "metadata": {},
          "execution_count": 52
        }
      ]
    },
    {
      "cell_type": "markdown",
      "source": [
        "**3. Comprobar los tipos de datos**"
      ],
      "metadata": {
        "id": "kxI5LLZjvLJa"
      }
    },
    {
      "cell_type": "code",
      "source": [
        "print(data.info())\n",
        "print()\n",
        "print('se puede observar en esta ventana informativa de que existen 16 columnas, los nombres de las mismas')\n",
        "print('igualmente el tipo de datos presentes en cada columna')\n",
        "print('y un conteo \"RangeIndex\" de 11914 registros o filas')"
      ],
      "metadata": {
        "colab": {
          "base_uri": "https://localhost:8080/"
        },
        "id": "4FnwdqgZvR6X",
        "outputId": "9f39d78e-2256-4dd2-ed47-e2059db308d2"
      },
      "execution_count": null,
      "outputs": [
        {
          "output_type": "stream",
          "name": "stdout",
          "text": [
            "<class 'pandas.core.frame.DataFrame'>\n",
            "RangeIndex: 11914 entries, 0 to 11913\n",
            "Data columns (total 16 columns):\n",
            " #   Column             Non-Null Count  Dtype  \n",
            "---  ------             --------------  -----  \n",
            " 0   Make               11914 non-null  object \n",
            " 1   Model              11914 non-null  object \n",
            " 2   Year               11914 non-null  int64  \n",
            " 3   Engine Fuel Type   11911 non-null  object \n",
            " 4   Engine HP          11845 non-null  float64\n",
            " 5   Engine Cylinders   11884 non-null  float64\n",
            " 6   Transmission Type  11914 non-null  object \n",
            " 7   Driven_Wheels      11914 non-null  object \n",
            " 8   Number of Doors    11908 non-null  float64\n",
            " 9   Market Category    8172 non-null   object \n",
            " 10  Vehicle Size       11914 non-null  object \n",
            " 11  Vehicle Style      11914 non-null  object \n",
            " 12  highway MPG        11914 non-null  int64  \n",
            " 13  city mpg           11914 non-null  int64  \n",
            " 14  Popularity         11914 non-null  int64  \n",
            " 15  MSRP               11914 non-null  int64  \n",
            "dtypes: float64(3), int64(5), object(8)\n",
            "memory usage: 1.5+ MB\n",
            "None\n",
            "\n",
            "se puede observar en esta ventana informativa de que existen 16 columnas, los nombres de las mismas\n",
            "igualmente el tipo de datos presentes en cada columna\n",
            "y un conteo \"RangeIndex\" de 11914 registros o filas\n"
          ]
        }
      ]
    },
    {
      "cell_type": "markdown",
      "source": [
        "**4. Eliminar columnas irrelevantes**"
      ],
      "metadata": {
        "id": "40D3rrhGvo85"
      }
    },
    {
      "cell_type": "code",
      "source": [
        "data.drop(columns=['Engine Fuel Type', 'Engine HP', 'Transmission Type', \n",
        "                   'Driven_Wheels','Number of Doors','Vehicle Style',\n",
        "                   'Popularity','highway MPG'],inplace=True)\n",
        "print(data.info())\n",
        "print()\n",
        "print('Se han dejado sólo las columnas que se creen mas representativas para identificar cada uno de los vehículos listados')\n",
        "print('se puede observar en el nuevo recuento de columnas que ahora existen 8 y no las 16 originales')"
      ],
      "metadata": {
        "colab": {
          "base_uri": "https://localhost:8080/"
        },
        "id": "8iyXBXaP76G1",
        "outputId": "18894c8c-d606-4472-c959-aa9be0f17064"
      },
      "execution_count": null,
      "outputs": [
        {
          "output_type": "stream",
          "name": "stdout",
          "text": [
            "<class 'pandas.core.frame.DataFrame'>\n",
            "RangeIndex: 11914 entries, 0 to 11913\n",
            "Data columns (total 8 columns):\n",
            " #   Column            Non-Null Count  Dtype  \n",
            "---  ------            --------------  -----  \n",
            " 0   Make              11914 non-null  object \n",
            " 1   Model             11914 non-null  object \n",
            " 2   Year              11914 non-null  int64  \n",
            " 3   Engine Cylinders  11884 non-null  float64\n",
            " 4   Market Category   8172 non-null   object \n",
            " 5   Vehicle Size      11914 non-null  object \n",
            " 6   city mpg          11914 non-null  int64  \n",
            " 7   MSRP              11914 non-null  int64  \n",
            "dtypes: float64(1), int64(3), object(4)\n",
            "memory usage: 744.8+ KB\n",
            "None\n",
            "\n",
            "Se han dejado sólo las columnas que se creen mas representativas para identificar cada uno de los vehículos listados\n",
            "se puede observar en el nuevo recuento de columnas que ahora existen 8 y no las 16 originales\n"
          ]
        }
      ]
    },
    {
      "cell_type": "markdown",
      "source": [
        "**5. Cambiar nombre de las columnas (mejora legibilidad de los datos)**"
      ],
      "metadata": {
        "id": "nPcIrYt68ILW"
      }
    },
    {
      "cell_type": "code",
      "source": [
        "data.columns= ['Marca', 'Modelo', 'Año', 'NumCilindros', 'Categoria', 'TamañoAuto', 'RendimientoCiudad', 'PrecioSugerido']\n",
        "print(data.info())\n",
        "print(\"Se deja evidencia de los nuevos nombres de las columnas\")"
      ],
      "metadata": {
        "colab": {
          "base_uri": "https://localhost:8080/"
        },
        "id": "G0-UACPk8PsW",
        "outputId": "5b39d258-9e81-4ebb-ba42-302cfa75c684"
      },
      "execution_count": null,
      "outputs": [
        {
          "output_type": "stream",
          "name": "stdout",
          "text": [
            "<class 'pandas.core.frame.DataFrame'>\n",
            "RangeIndex: 11914 entries, 0 to 11913\n",
            "Data columns (total 8 columns):\n",
            " #   Column             Non-Null Count  Dtype  \n",
            "---  ------             --------------  -----  \n",
            " 0   Marca              11914 non-null  object \n",
            " 1   Modelo             11914 non-null  object \n",
            " 2   Año                11914 non-null  int64  \n",
            " 3   NumCilindros       11884 non-null  float64\n",
            " 4   Categoria          8172 non-null   object \n",
            " 5   TamañoAuto         11914 non-null  object \n",
            " 6   RendimientoCiudad  11914 non-null  int64  \n",
            " 7   PrecioSugerido     11914 non-null  int64  \n",
            "dtypes: float64(1), int64(3), object(4)\n",
            "memory usage: 744.8+ KB\n",
            "None\n",
            "Se deja evidencia de los nuevos nombres de las columnas\n"
          ]
        }
      ]
    },
    {
      "cell_type": "markdown",
      "source": [
        "**6. Eliminar filas duplicadas**"
      ],
      "metadata": {
        "id": "my0Kfs6FAgkH"
      }
    },
    {
      "cell_type": "code",
      "source": [
        "#se procede a eliminar las filas duplicadas de manera de trabajar sólo con datos\n",
        "#únicos para obtener resultados más precisos en los análisis\n",
        "data.drop_duplicates(subset=None, keep='first', inplace=True, ignore_index=False)\n",
        "print(clr.S+'el recuento de filas luego de eliminar registros duplicados muestra'+clr.E, data.shape[0], 'filas')"
      ],
      "metadata": {
        "colab": {
          "base_uri": "https://localhost:8080/"
        },
        "id": "Axq8q4qcAoIb",
        "outputId": "7ef1d892-805d-4ae7-d677-3007d91c617e"
      },
      "execution_count": null,
      "outputs": [
        {
          "output_type": "stream",
          "name": "stdout",
          "text": [
            "\u001b[1m\u001b[90mel recuento de filas luego de eliminar registros duplicados muestra\u001b[0m 10954 filas\n"
          ]
        }
      ]
    },
    {
      "cell_type": "code",
      "source": [
        "print('se puede observar como el número filas bajo a 10954 de las 11914 originales')\n",
        "print('evidenciando la eliminacion registros duplicados')"
      ],
      "metadata": {
        "colab": {
          "base_uri": "https://localhost:8080/"
        },
        "id": "FM79XmamkbRj",
        "outputId": "774e69a3-84bf-49c9-f546-1392464a701e"
      },
      "execution_count": null,
      "outputs": [
        {
          "output_type": "stream",
          "name": "stdout",
          "text": [
            "se puede observar como el número filas bajo a 10954 de las 11914 originales\n",
            "evidenciando la eliminacion registros duplicados\n"
          ]
        }
      ]
    },
    {
      "cell_type": "markdown",
      "source": [
        "**7. Descartar valores faltantes o nulos**"
      ],
      "metadata": {
        "id": "BsEXqX5HClCG"
      }
    },
    {
      "cell_type": "code",
      "source": [
        "#verificando existencia de datos nulos \n",
        "print('La cantidad de datos nulos se muestra en el siguiente DataFrame')\n",
        "miss=data.isnull().sum()\n",
        "miss_per=miss[miss>0]/(len(data.index))*100\n",
        "Table = pd.concat([miss, miss_per], axis=1)\n",
        "nullTable=Table.rename(columns = {0 : 'Datos Nulos', 1 : '% de Datos Nulos'})\n",
        "nullTable.sort_values(by=['Datos Nulos'], ascending=False)"
      ],
      "metadata": {
        "colab": {
          "base_uri": "https://localhost:8080/",
          "height": 318
        },
        "id": "zhTq85o-Cp6Y",
        "outputId": "9525ed86-a8f7-4c18-cda1-da606f532301"
      },
      "execution_count": null,
      "outputs": [
        {
          "output_type": "stream",
          "name": "stdout",
          "text": [
            "La cantidad de datos nulos se muestra en el siguiente DataFrame\n"
          ]
        },
        {
          "output_type": "execute_result",
          "data": {
            "text/plain": [
              "                   Datos Nulos  % de Datos Nulos\n",
              "Categoria                 3229         29.477816\n",
              "NumCilindros                27          0.246485\n",
              "Marca                        0               NaN\n",
              "Modelo                       0               NaN\n",
              "Año                          0               NaN\n",
              "TamañoAuto                   0               NaN\n",
              "RendimientoCiudad            0               NaN\n",
              "PrecioSugerido               0               NaN"
            ],
            "text/html": [
              "\n",
              "  <div id=\"df-c4cbfd57-d7b9-4fed-8879-92d7f17ed453\">\n",
              "    <div class=\"colab-df-container\">\n",
              "      <div>\n",
              "<style scoped>\n",
              "    .dataframe tbody tr th:only-of-type {\n",
              "        vertical-align: middle;\n",
              "    }\n",
              "\n",
              "    .dataframe tbody tr th {\n",
              "        vertical-align: top;\n",
              "    }\n",
              "\n",
              "    .dataframe thead th {\n",
              "        text-align: right;\n",
              "    }\n",
              "</style>\n",
              "<table border=\"1\" class=\"dataframe\">\n",
              "  <thead>\n",
              "    <tr style=\"text-align: right;\">\n",
              "      <th></th>\n",
              "      <th>Datos Nulos</th>\n",
              "      <th>% de Datos Nulos</th>\n",
              "    </tr>\n",
              "  </thead>\n",
              "  <tbody>\n",
              "    <tr>\n",
              "      <th>Categoria</th>\n",
              "      <td>3229</td>\n",
              "      <td>29.477816</td>\n",
              "    </tr>\n",
              "    <tr>\n",
              "      <th>NumCilindros</th>\n",
              "      <td>27</td>\n",
              "      <td>0.246485</td>\n",
              "    </tr>\n",
              "    <tr>\n",
              "      <th>Marca</th>\n",
              "      <td>0</td>\n",
              "      <td>NaN</td>\n",
              "    </tr>\n",
              "    <tr>\n",
              "      <th>Modelo</th>\n",
              "      <td>0</td>\n",
              "      <td>NaN</td>\n",
              "    </tr>\n",
              "    <tr>\n",
              "      <th>Año</th>\n",
              "      <td>0</td>\n",
              "      <td>NaN</td>\n",
              "    </tr>\n",
              "    <tr>\n",
              "      <th>TamañoAuto</th>\n",
              "      <td>0</td>\n",
              "      <td>NaN</td>\n",
              "    </tr>\n",
              "    <tr>\n",
              "      <th>RendimientoCiudad</th>\n",
              "      <td>0</td>\n",
              "      <td>NaN</td>\n",
              "    </tr>\n",
              "    <tr>\n",
              "      <th>PrecioSugerido</th>\n",
              "      <td>0</td>\n",
              "      <td>NaN</td>\n",
              "    </tr>\n",
              "  </tbody>\n",
              "</table>\n",
              "</div>\n",
              "      <button class=\"colab-df-convert\" onclick=\"convertToInteractive('df-c4cbfd57-d7b9-4fed-8879-92d7f17ed453')\"\n",
              "              title=\"Convert this dataframe to an interactive table.\"\n",
              "              style=\"display:none;\">\n",
              "        \n",
              "  <svg xmlns=\"http://www.w3.org/2000/svg\" height=\"24px\"viewBox=\"0 0 24 24\"\n",
              "       width=\"24px\">\n",
              "    <path d=\"M0 0h24v24H0V0z\" fill=\"none\"/>\n",
              "    <path d=\"M18.56 5.44l.94 2.06.94-2.06 2.06-.94-2.06-.94-.94-2.06-.94 2.06-2.06.94zm-11 1L8.5 8.5l.94-2.06 2.06-.94-2.06-.94L8.5 2.5l-.94 2.06-2.06.94zm10 10l.94 2.06.94-2.06 2.06-.94-2.06-.94-.94-2.06-.94 2.06-2.06.94z\"/><path d=\"M17.41 7.96l-1.37-1.37c-.4-.4-.92-.59-1.43-.59-.52 0-1.04.2-1.43.59L10.3 9.45l-7.72 7.72c-.78.78-.78 2.05 0 2.83L4 21.41c.39.39.9.59 1.41.59.51 0 1.02-.2 1.41-.59l7.78-7.78 2.81-2.81c.8-.78.8-2.07 0-2.86zM5.41 20L4 18.59l7.72-7.72 1.47 1.35L5.41 20z\"/>\n",
              "  </svg>\n",
              "      </button>\n",
              "      \n",
              "  <style>\n",
              "    .colab-df-container {\n",
              "      display:flex;\n",
              "      flex-wrap:wrap;\n",
              "      gap: 12px;\n",
              "    }\n",
              "\n",
              "    .colab-df-convert {\n",
              "      background-color: #E8F0FE;\n",
              "      border: none;\n",
              "      border-radius: 50%;\n",
              "      cursor: pointer;\n",
              "      display: none;\n",
              "      fill: #1967D2;\n",
              "      height: 32px;\n",
              "      padding: 0 0 0 0;\n",
              "      width: 32px;\n",
              "    }\n",
              "\n",
              "    .colab-df-convert:hover {\n",
              "      background-color: #E2EBFA;\n",
              "      box-shadow: 0px 1px 2px rgba(60, 64, 67, 0.3), 0px 1px 3px 1px rgba(60, 64, 67, 0.15);\n",
              "      fill: #174EA6;\n",
              "    }\n",
              "\n",
              "    [theme=dark] .colab-df-convert {\n",
              "      background-color: #3B4455;\n",
              "      fill: #D2E3FC;\n",
              "    }\n",
              "\n",
              "    [theme=dark] .colab-df-convert:hover {\n",
              "      background-color: #434B5C;\n",
              "      box-shadow: 0px 1px 3px 1px rgba(0, 0, 0, 0.15);\n",
              "      filter: drop-shadow(0px 1px 2px rgba(0, 0, 0, 0.3));\n",
              "      fill: #FFFFFF;\n",
              "    }\n",
              "  </style>\n",
              "\n",
              "      <script>\n",
              "        const buttonEl =\n",
              "          document.querySelector('#df-c4cbfd57-d7b9-4fed-8879-92d7f17ed453 button.colab-df-convert');\n",
              "        buttonEl.style.display =\n",
              "          google.colab.kernel.accessAllowed ? 'block' : 'none';\n",
              "\n",
              "        async function convertToInteractive(key) {\n",
              "          const element = document.querySelector('#df-c4cbfd57-d7b9-4fed-8879-92d7f17ed453');\n",
              "          const dataTable =\n",
              "            await google.colab.kernel.invokeFunction('convertToInteractive',\n",
              "                                                     [key], {});\n",
              "          if (!dataTable) return;\n",
              "\n",
              "          const docLinkHtml = 'Like what you see? Visit the ' +\n",
              "            '<a target=\"_blank\" href=https://colab.research.google.com/notebooks/data_table.ipynb>data table notebook</a>'\n",
              "            + ' to learn more about interactive tables.';\n",
              "          element.innerHTML = '';\n",
              "          dataTable['output_type'] = 'display_data';\n",
              "          await google.colab.output.renderOutput(dataTable, element);\n",
              "          const docLink = document.createElement('div');\n",
              "          docLink.innerHTML = docLinkHtml;\n",
              "          element.appendChild(docLink);\n",
              "        }\n",
              "      </script>\n",
              "    </div>\n",
              "  </div>\n",
              "  "
            ]
          },
          "metadata": {},
          "execution_count": 25
        }
      ]
    },
    {
      "cell_type": "code",
      "source": [
        "#Detectando el valor de la moda con el fin de sustituir los valores nulos de la \n",
        "#columna 'Categoria'\n",
        "data.mode()"
      ],
      "metadata": {
        "colab": {
          "base_uri": "https://localhost:8080/",
          "height": 81
        },
        "id": "U0Gnx9OHu9os",
        "outputId": "e8ad0248-3ed3-4c07-83ca-351ab15798a5"
      },
      "execution_count": null,
      "outputs": [
        {
          "output_type": "execute_result",
          "data": {
            "text/plain": [
              "       Marca          Modelo   Año  NumCilindros  Categoria TamañoAuto  \\\n",
              "0  Chevrolet  Silverado 1500  2016           6.0  Crossover    Compact   \n",
              "\n",
              "   RendimientoCiudad  PrecioSugerido  \n",
              "0                 17            2000  "
            ],
            "text/html": [
              "\n",
              "  <div id=\"df-2c6740ad-400b-4fb3-ae0c-a89f964b4b06\">\n",
              "    <div class=\"colab-df-container\">\n",
              "      <div>\n",
              "<style scoped>\n",
              "    .dataframe tbody tr th:only-of-type {\n",
              "        vertical-align: middle;\n",
              "    }\n",
              "\n",
              "    .dataframe tbody tr th {\n",
              "        vertical-align: top;\n",
              "    }\n",
              "\n",
              "    .dataframe thead th {\n",
              "        text-align: right;\n",
              "    }\n",
              "</style>\n",
              "<table border=\"1\" class=\"dataframe\">\n",
              "  <thead>\n",
              "    <tr style=\"text-align: right;\">\n",
              "      <th></th>\n",
              "      <th>Marca</th>\n",
              "      <th>Modelo</th>\n",
              "      <th>Año</th>\n",
              "      <th>NumCilindros</th>\n",
              "      <th>Categoria</th>\n",
              "      <th>TamañoAuto</th>\n",
              "      <th>RendimientoCiudad</th>\n",
              "      <th>PrecioSugerido</th>\n",
              "    </tr>\n",
              "  </thead>\n",
              "  <tbody>\n",
              "    <tr>\n",
              "      <th>0</th>\n",
              "      <td>Chevrolet</td>\n",
              "      <td>Silverado 1500</td>\n",
              "      <td>2016</td>\n",
              "      <td>6.0</td>\n",
              "      <td>Crossover</td>\n",
              "      <td>Compact</td>\n",
              "      <td>17</td>\n",
              "      <td>2000</td>\n",
              "    </tr>\n",
              "  </tbody>\n",
              "</table>\n",
              "</div>\n",
              "      <button class=\"colab-df-convert\" onclick=\"convertToInteractive('df-2c6740ad-400b-4fb3-ae0c-a89f964b4b06')\"\n",
              "              title=\"Convert this dataframe to an interactive table.\"\n",
              "              style=\"display:none;\">\n",
              "        \n",
              "  <svg xmlns=\"http://www.w3.org/2000/svg\" height=\"24px\"viewBox=\"0 0 24 24\"\n",
              "       width=\"24px\">\n",
              "    <path d=\"M0 0h24v24H0V0z\" fill=\"none\"/>\n",
              "    <path d=\"M18.56 5.44l.94 2.06.94-2.06 2.06-.94-2.06-.94-.94-2.06-.94 2.06-2.06.94zm-11 1L8.5 8.5l.94-2.06 2.06-.94-2.06-.94L8.5 2.5l-.94 2.06-2.06.94zm10 10l.94 2.06.94-2.06 2.06-.94-2.06-.94-.94-2.06-.94 2.06-2.06.94z\"/><path d=\"M17.41 7.96l-1.37-1.37c-.4-.4-.92-.59-1.43-.59-.52 0-1.04.2-1.43.59L10.3 9.45l-7.72 7.72c-.78.78-.78 2.05 0 2.83L4 21.41c.39.39.9.59 1.41.59.51 0 1.02-.2 1.41-.59l7.78-7.78 2.81-2.81c.8-.78.8-2.07 0-2.86zM5.41 20L4 18.59l7.72-7.72 1.47 1.35L5.41 20z\"/>\n",
              "  </svg>\n",
              "      </button>\n",
              "      \n",
              "  <style>\n",
              "    .colab-df-container {\n",
              "      display:flex;\n",
              "      flex-wrap:wrap;\n",
              "      gap: 12px;\n",
              "    }\n",
              "\n",
              "    .colab-df-convert {\n",
              "      background-color: #E8F0FE;\n",
              "      border: none;\n",
              "      border-radius: 50%;\n",
              "      cursor: pointer;\n",
              "      display: none;\n",
              "      fill: #1967D2;\n",
              "      height: 32px;\n",
              "      padding: 0 0 0 0;\n",
              "      width: 32px;\n",
              "    }\n",
              "\n",
              "    .colab-df-convert:hover {\n",
              "      background-color: #E2EBFA;\n",
              "      box-shadow: 0px 1px 2px rgba(60, 64, 67, 0.3), 0px 1px 3px 1px rgba(60, 64, 67, 0.15);\n",
              "      fill: #174EA6;\n",
              "    }\n",
              "\n",
              "    [theme=dark] .colab-df-convert {\n",
              "      background-color: #3B4455;\n",
              "      fill: #D2E3FC;\n",
              "    }\n",
              "\n",
              "    [theme=dark] .colab-df-convert:hover {\n",
              "      background-color: #434B5C;\n",
              "      box-shadow: 0px 1px 3px 1px rgba(0, 0, 0, 0.15);\n",
              "      filter: drop-shadow(0px 1px 2px rgba(0, 0, 0, 0.3));\n",
              "      fill: #FFFFFF;\n",
              "    }\n",
              "  </style>\n",
              "\n",
              "      <script>\n",
              "        const buttonEl =\n",
              "          document.querySelector('#df-2c6740ad-400b-4fb3-ae0c-a89f964b4b06 button.colab-df-convert');\n",
              "        buttonEl.style.display =\n",
              "          google.colab.kernel.accessAllowed ? 'block' : 'none';\n",
              "\n",
              "        async function convertToInteractive(key) {\n",
              "          const element = document.querySelector('#df-2c6740ad-400b-4fb3-ae0c-a89f964b4b06');\n",
              "          const dataTable =\n",
              "            await google.colab.kernel.invokeFunction('convertToInteractive',\n",
              "                                                     [key], {});\n",
              "          if (!dataTable) return;\n",
              "\n",
              "          const docLinkHtml = 'Like what you see? Visit the ' +\n",
              "            '<a target=\"_blank\" href=https://colab.research.google.com/notebooks/data_table.ipynb>data table notebook</a>'\n",
              "            + ' to learn more about interactive tables.';\n",
              "          element.innerHTML = '';\n",
              "          dataTable['output_type'] = 'display_data';\n",
              "          await google.colab.output.renderOutput(dataTable, element);\n",
              "          const docLink = document.createElement('div');\n",
              "          docLink.innerHTML = docLinkHtml;\n",
              "          element.appendChild(docLink);\n",
              "        }\n",
              "      </script>\n",
              "    </div>\n",
              "  </div>\n",
              "  "
            ]
          },
          "metadata": {},
          "execution_count": 26
        }
      ]
    },
    {
      "cell_type": "code",
      "source": [
        "#sustituyendo datos nulos columna 'Categoría' por la moda respectiva\n",
        "#(se decide sustituirlos por la moda porque es una columna de datos no numericos)\n",
        "data['Categoria'].fillna('Crossover', inplace=True)\n",
        "\n",
        "#sustituyendo datos nulos columna 'NumCilindros' por la media respectiva\n",
        "data['NumCilindros'].fillna(data['NumCilindros'].mean(), inplace=True)\n",
        "print(clr.S+'El recuento de filas luego de limpiar los valores nulos es:'+clr.E)\n",
        "print(data.shape[0])\n",
        "print()\n",
        "print()\n",
        "print(clr.S+'la nueva cantidad de datos nulos es:'+clr.E)\n",
        "print(data.isnull().sum())\n",
        "print()\n",
        "print(\"se evidencia la no existencia de valores nulos\")\n",
        "\n"
      ],
      "metadata": {
        "colab": {
          "base_uri": "https://localhost:8080/"
        },
        "id": "LLuqf-7KKQmo",
        "outputId": "06b19dfd-7be9-44f7-99d8-465c0fc73d54"
      },
      "execution_count": null,
      "outputs": [
        {
          "output_type": "stream",
          "name": "stdout",
          "text": [
            "\u001b[1m\u001b[90mEl recuento de filas luego de limpiar los valores nulos es:\u001b[0m\n",
            "10954\n",
            "\n",
            "\n",
            "\u001b[1m\u001b[90mla nueva cantidad de datos nulos es:\u001b[0m\n",
            "Marca                0\n",
            "Modelo               0\n",
            "Año                  0\n",
            "NumCilindros         0\n",
            "Categoria            0\n",
            "TamañoAuto           0\n",
            "RendimientoCiudad    0\n",
            "PrecioSugerido       0\n",
            "dtype: int64\n",
            "\n",
            "se evidencia la no existencia de valores nulos\n"
          ]
        }
      ]
    },
    {
      "cell_type": "markdown",
      "source": [
        "**8. Detección de valores atípicos**"
      ],
      "metadata": {
        "id": "SyvgOR40KlUT"
      }
    },
    {
      "cell_type": "code",
      "source": [
        "# Utilizaremos los graficos tipo Caja para la deteccion visual de valores atípicos\n",
        "#(todos los valores por fuera de los 'bigotes' se consideran VALORES ATIPICOS O 'OUTLIERS')\n",
        "\n",
        "#importando el tipo de grafico de cajas\n",
        "from seaborn import boxplot\n",
        "\n",
        "#configurando grafico de cajas para la data general\n",
        "fig,ax=plt.subplots(figsize=(20,6))\n",
        "boxplot(data=data, orient='h', palette='Wistia')"
      ],
      "metadata": {
        "colab": {
          "base_uri": "https://localhost:8080/",
          "height": 370
        },
        "id": "AK5pMCXUKksI",
        "outputId": "9120ac3e-1482-483f-c1d3-89427fd63be0"
      },
      "execution_count": null,
      "outputs": [
        {
          "output_type": "execute_result",
          "data": {
            "text/plain": [
              "<matplotlib.axes._subplots.AxesSubplot at 0x7f07efc40b90>"
            ]
          },
          "metadata": {},
          "execution_count": 31
        },
        {
          "output_type": "display_data",
          "data": {
            "text/plain": [
              "<Figure size 1440x432 with 1 Axes>"
            ],
            "image/png": "[encoded data removed]"
          },
          "metadata": {
            "needs_background": "light"
          }
        }
      ]
    },
    {
      "cell_type": "markdown",
      "source": [
        "Haremos una gráfica para cada variable para observar con mayor detalle los valores atípicos "
      ],
      "metadata": {
        "id": "MkrJLPhiq10W"
      }
    },
    {
      "cell_type": "code",
      "source": [
        "#configurando grafico de cajas columna Año\n",
        "boxplot(x=data.Año, data=data, orient='h', palette='Purples')"
      ],
      "metadata": {
        "colab": {
          "base_uri": "https://localhost:8080/",
          "height": 297
        },
        "id": "2YaIV_zsqXx4",
        "outputId": "e54f0432-fdb5-4711-ed02-96d3ee7b5d90"
      },
      "execution_count": null,
      "outputs": [
        {
          "output_type": "execute_result",
          "data": {
            "text/plain": [
              "<matplotlib.axes._subplots.AxesSubplot at 0x7f07ee312dd0>"
            ]
          },
          "metadata": {},
          "execution_count": 32
        },
        {
          "output_type": "display_data",
          "data": {
            "text/plain": [
              "<Figure size 432x288 with 1 Axes>"
            ],
            "image/png": "[encoded data removed]"
          },
          "metadata": {
            "needs_background": "light"
          }
        }
      ]
    },
    {
      "cell_type": "markdown",
      "source": [
        "Se puede observar como los valores atípicos son los años anteriores a 1994"
      ],
      "metadata": {
        "id": "IEoUDRUDL59a"
      }
    },
    {
      "cell_type": "code",
      "source": [
        "#configurando grafico de cajas columna NumCilindros\n",
        "boxplot(x=data.NumCilindros, data=data, orient='h', color='orange')"
      ],
      "metadata": {
        "colab": {
          "base_uri": "https://localhost:8080/",
          "height": 297
        },
        "id": "wCVfeB9JNbgQ",
        "outputId": "d2a114c9-95f7-4abf-aea2-b4a9dbb26db4"
      },
      "execution_count": null,
      "outputs": [
        {
          "output_type": "execute_result",
          "data": {
            "text/plain": [
              "<matplotlib.axes._subplots.AxesSubplot at 0x7f07edcb50d0>"
            ]
          },
          "metadata": {},
          "execution_count": 37
        },
        {
          "output_type": "display_data",
          "data": {
            "text/plain": [
              "<Figure size 432x288 with 1 Axes>"
            ],
            "image/png": "[encoded data removed]"
          },
          "metadata": {
            "needs_background": "light"
          }
        }
      ]
    },
    {
      "cell_type": "markdown",
      "source": [
        "Se puede ver claramente como los valores atípicos son los mayores a 8 cilindros y los menores a 2 cilindros de motor"
      ],
      "metadata": {
        "id": "8z16XECiMEvJ"
      }
    },
    {
      "cell_type": "code",
      "source": [
        "#configurando grafico de cajas columna RendimientoCiudad\n",
        "boxplot(x=data.RendimientoCiudad, data=data, orient='h', color='green')"
      ],
      "metadata": {
        "colab": {
          "base_uri": "https://localhost:8080/",
          "height": 297
        },
        "id": "QMbJhLXZT1Os",
        "outputId": "c9939169-293b-4260-c62c-0c8ccad3764d"
      },
      "execution_count": null,
      "outputs": [
        {
          "output_type": "execute_result",
          "data": {
            "text/plain": [
              "<matplotlib.axes._subplots.AxesSubplot at 0x7f07efc2ed10>"
            ]
          },
          "metadata": {},
          "execution_count": 33
        },
        {
          "output_type": "display_data",
          "data": {
            "text/plain": [
              "<Figure size 432x288 with 1 Axes>"
            ],
            "image/png": "[encoded data removed]"
          },
          "metadata": {
            "needs_background": "light"
          }
        }
      ]
    },
    {
      "cell_type": "markdown",
      "source": [
        "Con esta gráfica de caja podemos ver como los valores atípicos en el rendimiento del vehículo son aquellos superiores a 32 millas por galón aproximadamente."
      ],
      "metadata": {
        "id": "ib9r_4X7MT6F"
      }
    },
    {
      "cell_type": "code",
      "source": [
        "#configurando grafico de cajas columna PrecioSugerido\n",
        "fig,ax=plt.subplots(figsize=(20,3))\n",
        "boxplot(x=data.PrecioSugerido, data=data, orient='h', color='red')"
      ],
      "metadata": {
        "colab": {
          "base_uri": "https://localhost:8080/",
          "height": 240
        },
        "id": "7b7njjU_UjLC",
        "outputId": "29a58b92-42e8-433b-ce2e-2dc7078ae6f1"
      },
      "execution_count": null,
      "outputs": [
        {
          "output_type": "execute_result",
          "data": {
            "text/plain": [
              "<matplotlib.axes._subplots.AxesSubplot at 0x7f07edbc0f50>"
            ]
          },
          "metadata": {},
          "execution_count": 45
        },
        {
          "output_type": "display_data",
          "data": {
            "text/plain": [
              "<Figure size 1440x216 with 1 Axes>"
            ],
            "image/png": "[encoded data removed]"
          },
          "metadata": {
            "needs_background": "light"
          }
        }
      ]
    },
    {
      "cell_type": "markdown",
      "source": [
        "Acá con algo de dificultad podemos ver que los valores atípicos del Precio sugerido son aquellos situados por encima de los 100K USD"
      ],
      "metadata": {
        "id": "9Ia-rYEVM5eS"
      }
    },
    {
      "cell_type": "code",
      "source": [
        "#IDENTIFICANDO VALORES ATIPICOS dentro del DataFrame\n",
        "\n",
        "#valores atipicos columna Año\n",
        "\n",
        "q1a=data['Año'].quantile(0.25)\n",
        "q3a=data['Año'].quantile(0.75)\n",
        "iqr=q3a-q1a\n",
        "x=1.5*iqr\n",
        "limax=(q3a+x)\n",
        "limin=(q1a-x)\n",
        "ubioutliera= (data['Año'] < limin) | (data['Año'] > limax)\n",
        "atipicoa=data[ubioutliera]\n",
        "print(\"Estos son los valores atipicos de Año:\")\n",
        "print()\n",
        "print()\n",
        "print(atipicoa[['Año']])\n",
        "print()\n",
        "print()\n",
        "\n",
        "#valores atipicos columna NumCilindros\n",
        "\n",
        "q1nc=data['NumCilindros'].quantile(0.25)\n",
        "q3nc=data['NumCilindros'].quantile(0.75)\n",
        "iqrnc=q3nc-q1nc\n",
        "xnc=1.5*iqrnc\n",
        "limaxnc=(q3nc+xnc)\n",
        "liminnc=(q1nc-xnc)\n",
        "ubioutliernc= (data['NumCilindros'] < liminnc) | (data['NumCilindros'] > limaxnc)\n",
        "atipiconc=data[ubioutliernc]\n",
        "print(\"estos son los valores atipicos de NumCilindros:\")\n",
        "print()\n",
        "print()\n",
        "print(atipiconc[['NumCilindros']])\n",
        "print()\n",
        "print()\n",
        "\n",
        "#valores atipicos columna RendimientoCiudad\n",
        "\n",
        "q1rc=data['RendimientoCiudad'].quantile(0.25)\n",
        "q3rc=data['RendimientoCiudad'].quantile(0.75)\n",
        "iqrrc=q3rc-q1rc\n",
        "xrc=1.5*iqrrc\n",
        "limaxrc=(q3rc+xrc)\n",
        "liminrc=(q1rc-xrc)\n",
        "ubioutlierrc= (data['RendimientoCiudad'] < liminrc) | (data['RendimientoCiudad'] > limaxrc)\n",
        "atipicorc=data[ubioutlierrc]\n",
        "print(\"estos son los valores atipicos de RendimientoCiudad:\")\n",
        "print()\n",
        "print()\n",
        "print(atipicorc[['RendimientoCiudad']])\n",
        "print()\n",
        "print()\n",
        "\n",
        "#valores atipicos columna PrecioSugerido\n",
        "\n",
        "q1ps=data['PrecioSugerido'].quantile(0.25)\n",
        "q3ps=data['PrecioSugerido'].quantile(0.75)\n",
        "iqrps=q3ps-q1ps\n",
        "xps=1.5*iqrps\n",
        "limaxps=(q3ps+xps)\n",
        "liminps=(q1ps-xps)\n",
        "ubioutlierps= (data['PrecioSugerido'] < liminps) | (data['PrecioSugerido'] > limaxps)\n",
        "atipicops=data[ubioutlierps]\n",
        "print(\"estos son los valores atipicos de PrecioSugerido:\")\n",
        "print()\n",
        "print()\n",
        "print(atipicops[['PrecioSugerido']])\n",
        "print()\n",
        "print()"
      ],
      "metadata": {
        "colab": {
          "base_uri": "https://localhost:8080/"
        },
        "id": "8HojRAQeYRq4",
        "outputId": "8b5cd602-80f3-41fc-d7f6-cd0c02ecfafa"
      },
      "execution_count": null,
      "outputs": [
        {
          "output_type": "stream",
          "name": "stdout",
          "text": [
            "Estos son los valores atipicos de Año:\n",
            "\n",
            "\n",
            "        Año\n",
            "17     1992\n",
            "19     1992\n",
            "22     1993\n",
            "23     1993\n",
            "35     1991\n",
            "...     ...\n",
            "11374  1992\n",
            "11376  1993\n",
            "11792  1991\n",
            "11793  1991\n",
            "11794  1991\n",
            "\n",
            "[373 rows x 1 columns]\n",
            "\n",
            "\n",
            "estos son los valores atipicos de NumCilindros:\n",
            "\n",
            "\n",
            "       NumCilindros\n",
            "460            12.0\n",
            "461            12.0\n",
            "462            12.0\n",
            "463            12.0\n",
            "464            12.0\n",
            "...             ...\n",
            "11394          12.0\n",
            "11395          12.0\n",
            "11448          12.0\n",
            "11449          12.0\n",
            "11450          12.0\n",
            "\n",
            "[350 rows x 1 columns]\n",
            "\n",
            "\n",
            "estos son los valores atipicos de RendimientoCiudad:\n",
            "\n",
            "\n",
            "       RendimientoCiudad\n",
            "539                  122\n",
            "540                  121\n",
            "541                  121\n",
            "1202                  50\n",
            "1203                  50\n",
            "...                  ...\n",
            "10110                 33\n",
            "10792                 34\n",
            "10795                 34\n",
            "10796                 34\n",
            "10797                 34\n",
            "\n",
            "[284 rows x 1 columns]\n",
            "\n",
            "\n",
            "estos son los valores atipicos de PrecioSugerido:\n",
            "\n",
            "\n",
            "       PrecioSugerido\n",
            "294            160829\n",
            "295            140615\n",
            "296            150694\n",
            "297            170829\n",
            "298            165986\n",
            "...               ...\n",
            "11736           85650\n",
            "11737           86215\n",
            "11903          128000\n",
            "11904          130000\n",
            "11905          131500\n",
            "\n",
            "[948 rows x 1 columns]\n",
            "\n",
            "\n"
          ]
        }
      ]
    },
    {
      "cell_type": "code",
      "source": [
        "#Mostrando los valores atípicos(Outliers) como % del total\n",
        "Añoout=(atipicoa[['Año']].count()/len(data['Año']))*100\n",
        "print(clr.S+'Porcentaje de  Outliers'+clr.E, Añoout)\n",
        "print()\n",
        "NCout=(atipiconc[['NumCilindros']].count()/len(data['NumCilindros']))*100\n",
        "print(clr.S+'Porcentaje de  Outliers'+clr.E, NCout)\n",
        "print()\n",
        "RCout=(atipicorc[['RendimientoCiudad']].count()/len(data['RendimientoCiudad']))*100\n",
        "print(clr.S+'Porcentaje de  Outliers'+clr.E, RCout)\n",
        "print()\n",
        "preout=(atipicops[['PrecioSugerido']].count()/len(data['PrecioSugerido']))*100\n",
        "print(clr.S+'Porcentaje de  Outliers'+clr.E, preout)"
      ],
      "metadata": {
        "colab": {
          "base_uri": "https://localhost:8080/"
        },
        "id": "5YMgJFMUdEuZ",
        "outputId": "f1f0e5d2-a8d8-4767-e7d6-f384f843d894"
      },
      "execution_count": null,
      "outputs": [
        {
          "output_type": "stream",
          "name": "stdout",
          "text": [
            "\u001b[1m\u001b[90mPorcentaje de  Outliers\u001b[0m Año    3.405149\n",
            "dtype: float64\n",
            "\n",
            "\u001b[1m\u001b[90mPorcentaje de  Outliers\u001b[0m NumCilindros    3.19518\n",
            "dtype: float64\n",
            "\n",
            "\u001b[1m\u001b[90mPorcentaje de  Outliers\u001b[0m RendimientoCiudad    2.59266\n",
            "dtype: float64\n",
            "\n",
            "\u001b[1m\u001b[90mPorcentaje de  Outliers\u001b[0m PrecioSugerido    8.654373\n",
            "dtype: float64\n"
          ]
        }
      ]
    },
    {
      "cell_type": "code",
      "source": [
        "# Gráfica de PORECENTAJE DE OUTLIERS\n",
        "from matplotlib import patches\n",
        "plt.figure(figsize=(23,6))\n",
        "\n",
        "out={'Año':[3.405149], 'NumCilindros ':[3.19518], 'RendimientoCiudad':[2.59266],\n",
        "                            'PrecioSugerido':[8.654373]}\n",
        "outliers=pd.DataFrame(data=out)\n",
        "outs=outliers.sort_values(by= [0], axis=1, ascending=True)\n",
        "sns.barplot(data=outs, orient='h', palette='cividis')\n",
        "plt.title(\"- % DE VALORES ATIPICOS EN LA DATA -\", size=28, weight=\"bold\")\n",
        "plt.xlabel(\"Porcentaje\", size=28)\n",
        "plt.ylabel(\"Variables del DataFrame\", size=20)\n",
        "plt.xticks(size=16)\n",
        "plt.yticks(size=16)\n",
        "plt.text(x=2.0, y=0, s='2.59%', color=\"white\", size=15, weight='heavy')\n",
        "plt.text(x=2.0, y=1, s='3.20%', color=\"white\", size=15, weight='heavy')\n",
        "plt.text(x=2.0, y=2, s='3.41%', color=\"black\", size=15, weight='heavy')\n",
        "plt.text(x=2.0, y=3, s='8.65%', color=\"black\", size=15, weight='heavy')\n",
        "sns.despine(left=True, bottom=True)\n",
        "plt.show();"
      ],
      "metadata": {
        "colab": {
          "base_uri": "https://localhost:8080/",
          "height": 334
        },
        "id": "Yek6ufY0ng2o",
        "outputId": "a925323f-6119-4fc0-cc36-11f66ad6e961"
      },
      "execution_count": null,
      "outputs": [
        {
          "output_type": "display_data",
          "data": {
            "text/plain": [
              "<Figure size 1656x432 with 1 Axes>"
            ],
            "image/png": "[encoded data removed]"
          },
          "metadata": {
            "needs_background": "light"
          }
        }
      ]
    },
    {
      "cell_type": "markdown",
      "source": [
        "**9. Graficar distintas características entre si (dispersión), contra frecuencia (histograma).**"
      ],
      "metadata": {
        "id": "bFiWITVXmzpw"
      }
    },
    {
      "cell_type": "code",
      "source": [
        "#configurando grafica de dispersion para ver la influencia del Número de Cilindros del motor en el Rendimiento de combustible en ciudad\n",
        "g= sns.lmplot(x='NumCilindros', y='RendimientoCiudad', hue='RendimientoCiudad', data= data, legend=False, fit_reg= False)\n",
        "plt.ylabel(\"RendimientoCiudad en millas por galón(3.785 L)\")"
      ],
      "metadata": {
        "colab": {
          "base_uri": "https://localhost:8080/",
          "height": 388
        },
        "id": "-xDeRhdumzCL",
        "outputId": "9c62c176-fc2c-4e8b-c4b8-b095e3a47528"
      },
      "execution_count": null,
      "outputs": [
        {
          "output_type": "execute_result",
          "data": {
            "text/plain": [
              "Text(17.67500000000001, 0.5, 'RendimientoCiudad en millas por galón(3.785 L)')"
            ]
          },
          "metadata": {},
          "execution_count": 78
        },
        {
          "output_type": "display_data",
          "data": {
            "text/plain": [
              "<Figure size 360x360 with 1 Axes>"
            ],
            "image/png": "[encoded data removed]"
          },
          "metadata": {
            "needs_background": "light"
          }
        }
      ]
    },
    {
      "cell_type": "markdown",
      "source": [
        "Vemos que a menor cilindrada del motor mayor es el rendimiento de combustible dentro de la ciudad."
      ],
      "metadata": {
        "id": "WDRydNXtNti9"
      }
    },
    {
      "cell_type": "code",
      "source": [
        "#configurando grafica de dispersion para ver la influencia del Número de Cilindros del motor en el Precio sugerido de venta\n",
        "g= sns.lmplot(x='NumCilindros', y='PrecioSugerido',  data= data, hue='NumCilindros', palette=sns.color_palette('hot'), legend=True, fit_reg= True)"
      ],
      "metadata": {
        "colab": {
          "base_uri": "https://localhost:8080/",
          "height": 369
        },
        "id": "_81aQ18Hx5Pd",
        "outputId": "56630863-5fe1-458f-8687-2dbed299cc81"
      },
      "execution_count": null,
      "outputs": [
        {
          "output_type": "display_data",
          "data": {
            "text/plain": [
              "<Figure size 500.25x360 with 1 Axes>"
            ],
            "image/png": "[encoded data removed]"
          },
          "metadata": {
            "needs_background": "light"
          }
        }
      ]
    },
    {
      "cell_type": "markdown",
      "source": [
        "Observamos que a mayor cilindrada del motor mayor es el precio sugerido."
      ],
      "metadata": {
        "id": "oz-jKN21N7bX"
      }
    },
    {
      "cell_type": "code",
      "source": [
        "#configurando grafica de dispersion para ver la influencia del Año de salida al mercado en el Precio sugerido de venta\n",
        "g= sns.lmplot(x='Año', y='PrecioSugerido', data= data, hue='Año', palette=sns.color_palette('magma'), legend=False, fit_reg= True)"
      ],
      "metadata": {
        "colab": {
          "base_uri": "https://localhost:8080/",
          "height": 369
        },
        "id": "PXNOUSqC0IcN",
        "outputId": "cfe3e403-84f8-4e52-ed45-9d44f45b8acc"
      },
      "execution_count": null,
      "outputs": [
        {
          "output_type": "display_data",
          "data": {
            "text/plain": [
              "<Figure size 360x360 with 1 Axes>"
            ],
            "image/png": "[encoded data removed]"
          },
          "metadata": {
            "needs_background": "light"
          }
        }
      ]
    },
    {
      "cell_type": "markdown",
      "source": [
        "Mientras el año de salida al mercado es más reciente el precio sugerido tiende a aumentar con algunas ligeras excepciones."
      ],
      "metadata": {
        "id": "OSDsryxrODiA"
      }
    },
    {
      "cell_type": "code",
      "source": [
        "#configurando grafica de dispersion para ver la influencia del Rendimiento de combustible en ciudad en el Precio sugerido de venta\n",
        "g= sns.lmplot(x='RendimientoCiudad', y= 'PrecioSugerido', data= data, hue='Año', palette=sns.color_palette('BuGn'), legend=False, fit_reg= False)\n",
        "plt.xlabel(\"RendimientoCiudad en millas por galón(3.785 L)\")\n",
        "plt.ylabel(\"PrecioSugerido e6\")"
      ],
      "metadata": {
        "colab": {
          "base_uri": "https://localhost:8080/",
          "height": 388
        },
        "id": "mYX7xBfMUGL1",
        "outputId": "7c0f0feb-d052-4009-9707-4bbc2bd0f241"
      },
      "execution_count": null,
      "outputs": [
        {
          "output_type": "execute_result",
          "data": {
            "text/plain": [
              "Text(20.67500000000001, 0.5, 'PrecioSugerido e6')"
            ]
          },
          "metadata": {},
          "execution_count": 81
        },
        {
          "output_type": "display_data",
          "data": {
            "text/plain": [
              "<Figure size 360x360 with 1 Axes>"
            ],
            "image/png": "[encoded data removed]"
          },
          "metadata": {
            "needs_background": "light"
          }
        }
      ]
    },
    {
      "cell_type": "markdown",
      "source": [
        "Podemos observar como el grueso de los autos listados se concentra en un rendimiento de combustible dentro de la ciudad por debajo de las 20 millas por galón y a un precio sugerido inferior a los 200K USD, adicionalmente observamos que a menor rendimiento de combustible el precio tiende a aumentar inclusive a precios por encima del millon y medio de dólares estadounidenses."
      ],
      "metadata": {
        "id": "WO8x6ZsLOVlN"
      }
    },
    {
      "cell_type": "code",
      "source": [
        "#configurando histograma para ver el Precio sugerido de venta\n",
        "f, ax = plt.subplots(figsize=(18, 8))\n",
        "plt.xticks(rotation=0)\n",
        "x=data['PrecioSugerido']/10\n",
        "sns.histplot(data, x= x, color= 'y', bins=np.arange(min(data['PrecioSugerido']/100), max(data['PrecioSugerido']/100) + 1,1000), edgecolor=\".2\", linewidth=2, kde=True, log_scale=False, stat='frequency')\n",
        "plt.xlabel(\"Precio sugerido e-10\")\n",
        "plt.ylabel('Frecuencia observada del precio x 1000')"
      ],
      "metadata": {
        "colab": {
          "base_uri": "https://localhost:8080/",
          "height": 515
        },
        "id": "4pX0Dk_it-3m",
        "outputId": "9e10e113-04bf-4920-fbe0-1b5c5994d454"
      },
      "execution_count": null,
      "outputs": [
        {
          "output_type": "execute_result",
          "data": {
            "text/plain": [
              "Text(0, 0.5, 'Frecuencia observada del precio x 1000')"
            ]
          },
          "metadata": {},
          "execution_count": 82
        },
        {
          "output_type": "display_data",
          "data": {
            "text/plain": [
              "<Figure size 1296x576 with 1 Axes>"
            ],
            "image/png": "[encoded data removed]"
          },
          "metadata": {
            "needs_background": "light"
          }
        }
      ]
    },
    {
      "cell_type": "markdown",
      "source": [
        "Se ve en esta gráfica que el precio frecuente más listado ronda los 35mil USD aproximandamente"
      ],
      "metadata": {
        "id": "RHMnQypOPdx2"
      }
    },
    {
      "cell_type": "code",
      "source": [
        "#configurando histograma para ver los numeros de cilindros del motor en porcentajes de aparicion en listado\n",
        "f, ax = plt.subplots(figsize=(6, 4))\n",
        "plt.xticks(rotation=0)\n",
        "x=data['NumCilindros']\n",
        "sns.histplot(data, x= x, color= (0.50, 0.281, 0.16), bins=np.arange(min(data['NumCilindros']), max(data['NumCilindros']) + 1,1), discrete=False, edgecolor=\".2\", linewidth=2, binwidth=0.5, kde=False, stat='percent')\n",
        "plt.ylabel('% de apariciones en el listado')"
      ],
      "metadata": {
        "colab": {
          "base_uri": "https://localhost:8080/",
          "height": 299
        },
        "id": "iJwtCAJk1dXP",
        "outputId": "29b735b8-834b-4ace-9eb8-bec047ace9de"
      },
      "execution_count": null,
      "outputs": [
        {
          "output_type": "execute_result",
          "data": {
            "text/plain": [
              "Text(0, 0.5, '% de apariciones en el listado')"
            ]
          },
          "metadata": {},
          "execution_count": 83
        },
        {
          "output_type": "display_data",
          "data": {
            "text/plain": [
              "<Figure size 432x288 with 1 Axes>"
            ],
            "image/png": "[encoded data removed]"
          },
          "metadata": {
            "needs_background": "light"
          }
        }
      ]
    },
    {
      "cell_type": "markdown",
      "source": [
        "Esta gráfica nos muestra como las cilindradas de motor más frecuentes en la data estudiada son los motores de 4 y 6 cilindros alcanzando cada uno aproximadamente un 38% de apariciones sumando casi el 80% de toda la data analizada."
      ],
      "metadata": {
        "id": "a8nnFnFsQcm7"
      }
    },
    {
      "cell_type": "code",
      "source": [
        "#configurando histograma para ver el rendimiento de gasolina en ciudad en porcentajes de aparicion en la data\n",
        "f, ax = plt.subplots(figsize=(8, 4))\n",
        "plt.xticks(rotation=0)\n",
        "x=data['RendimientoCiudad']\n",
        "sns.histplot(data, x= x, color= (0.50, 0.281, 0.16), bins=np.arange(min(data['RendimientoCiudad']), max(data['RendimientoCiudad']) + 1,1), discrete=False, edgecolor=\".2\", linewidth=2, binwidth=0.5, kde=True, stat='percent')\n",
        "plt.xlabel(\"RendimientoCiudad en millas por galón(3.785 L)\")\n",
        "plt.ylabel('% de apariciones en el listado')"
      ],
      "metadata": {
        "colab": {
          "base_uri": "https://localhost:8080/",
          "height": 298
        },
        "id": "XF9N8cYXJOxG",
        "outputId": "81021299-3d44-4a86-ddf8-0c59a10e77e1"
      },
      "execution_count": null,
      "outputs": [
        {
          "output_type": "execute_result",
          "data": {
            "text/plain": [
              "Text(0, 0.5, '% de apariciones en el listado')"
            ]
          },
          "metadata": {},
          "execution_count": 84
        },
        {
          "output_type": "display_data",
          "data": {
            "text/plain": [
              "<Figure size 576x288 with 1 Axes>"
            ],
            "image/png": "[encoded data removed]"
          },
          "metadata": {
            "needs_background": "light"
          }
        }
      ]
    },
    {
      "cell_type": "markdown",
      "source": [
        "En este histograma podemos observar como el rendimiento en ciudad más frecuente es aproximadamente el de 16MPG (millas recorridas por galón de combustible consumido) acaparando el 11.5% aproximadamente del total de los rendimientos listados."
      ],
      "metadata": {
        "id": "fT78LmC6RQK2"
      }
    }
  ]
}